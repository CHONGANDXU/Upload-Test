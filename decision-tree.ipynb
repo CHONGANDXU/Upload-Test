{
 "cells": [
  {
   "cell_type": "markdown",
   "metadata": {},
   "source": [
    "## 实验项目名称：决策树分类算法的肝病诊断\n",
    "\n",
    "## 实验目的和要求：\n",
    "\n",
    "- 掌握常见的数据读取方式\n",
    "- 掌握 pandas 常用属性与方法\n",
    "- 掌握 DecisionTreeClassifier 模型的构建及重要参数\n",
    "- 掌握信息熵、信息增益、基尼系数的概念。\n",
    "- 掌握分类模型评价的方法\n",
    "- 掌握数据标准化的方法\n",
    "- 掌握决策树的基本概念。\n",
    "\n",
    "## 实验内容：\n",
    "\n",
    "### 1.基于公开的肝病数据集，使用 sklearn 决策树算法构建对肝病分类预测模型\n",
    "\n",
    "### 2.决策树可视化。\n",
    "\n",
    "#### 数据来源\n",
    "\n",
    "使用来自 UCI 的肝病数据集http://archive.ics.uci.edu/ml/datasets/ILPD+(Indian+Liver+Patient+Dataset) 。该数据集包含了 583 个数据样本，其中有 416 个患肝病，167 人未患肝病。每个数据样本共 11 个特征变量，其中一个特征变量表示是否患肝病，其中 1 表示患有肝病，2 表示未患肝病。\n"
   ]
  },
  {
   "cell_type": "markdown",
   "metadata": {},
   "source": [
    "## 实验步骤及结果\n",
    "\n",
    "#### 1.读入数据、探索数据\n"
   ]
  },
  {
   "cell_type": "code",
   "execution_count": null,
   "metadata": {},
   "outputs": [],
   "source": [
    "import pandas as pd\n",
    "\n",
    "row = pd.read_csv(\"./python_data/ILPD.csv\", header=None)\n",
    "row"
   ]
  },
  {
   "cell_type": "markdown",
   "metadata": {},
   "source": [
    "从描述文件中得知数据共有 11 个特征及每个特征的含义，为了便于理解，将特征名翻译成中文之后给数据集添加上特征名称\n"
   ]
  },
  {
   "cell_type": "code",
   "execution_count": null,
   "metadata": {},
   "outputs": [],
   "source": [
    "row.columns = [\n",
    "    \"年龄\",\n",
    "    \"性别\",\n",
    "    \"总胆红素\",\n",
    "    \"直接胆红素\",\n",
    "    \"Alkphos\",\n",
    "    \"血糖\",\n",
    "    \"血清\",\n",
    "    \"总Protiens\",\n",
    "    \"白蛋白\",\n",
    "    \"A/G比值\",\n",
    "    \"分类\",\n",
    "]"
   ]
  },
  {
   "cell_type": "markdown",
   "metadata": {},
   "source": [
    "缺失值检查\n"
   ]
  },
  {
   "cell_type": "code",
   "execution_count": null,
   "metadata": {},
   "outputs": [],
   "source": [
    "row.isnull().sum()"
   ]
  },
  {
   "cell_type": "markdown",
   "metadata": {},
   "source": [
    "采用均值填补的方式，填补缺失值\n"
   ]
  },
  {
   "cell_type": "code",
   "execution_count": null,
   "metadata": {},
   "outputs": [],
   "source": [
    "row[\"A/G比值\"].fillna(value=row[\"A/G比值\"].mean(), inplace=True)"
   ]
  },
  {
   "cell_type": "markdown",
   "metadata": {},
   "source": [
    "重复值检查\n"
   ]
  },
  {
   "cell_type": "code",
   "execution_count": null,
   "metadata": {},
   "outputs": [],
   "source": [
    "row.duplicated().sum()\n",
    "row[row.duplicated()]\n",
    "# row.drop_duplicates(inplace=True)\n",
    "# row.reset_index()"
   ]
  },
  {
   "cell_type": "markdown",
   "metadata": {},
   "source": [
    "将性别列中的字符更改为数字表示，以符合模型处理数据的类型要求，Female 转换为 0，Male 转换为 1\n"
   ]
  },
  {
   "cell_type": "code",
   "execution_count": null,
   "metadata": {},
   "outputs": [],
   "source": [
    "list = []\n",
    "for i in row[\"性别\"]:\n",
    "    if i == \"Female\":\n",
    "        list.append(0)\n",
    "    else:\n",
    "        list.append(1)\n",
    "row.insert(loc=2, column=\"Gender\", value=list)\n",
    "row.drop(\"性别\", axis=1, inplace=True)\n",
    "row"
   ]
  },
  {
   "cell_type": "markdown",
   "metadata": {},
   "source": [
    "统计患病和未患病人数\n"
   ]
  },
  {
   "cell_type": "code",
   "execution_count": null,
   "metadata": {},
   "outputs": [],
   "source": [
    "row[\"分类\"].value_counts()"
   ]
  },
  {
   "cell_type": "markdown",
   "metadata": {},
   "source": [
    "“年龄”特征的描述性统计情况\n"
   ]
  },
  {
   "cell_type": "code",
   "execution_count": null,
   "metadata": {},
   "outputs": [],
   "source": [
    "row[\"年龄\"].describe()"
   ]
  },
  {
   "cell_type": "markdown",
   "metadata": {},
   "source": [
    "“总胆红素”和“直接胆红素”特征的描述性统计情况\n"
   ]
  },
  {
   "cell_type": "code",
   "execution_count": null,
   "metadata": {},
   "outputs": [],
   "source": [
    "row.iloc[:, 2:4].describe()"
   ]
  },
  {
   "cell_type": "markdown",
   "metadata": {},
   "source": [
    "#### 2.划分训练集和测试集\n"
   ]
  },
  {
   "cell_type": "code",
   "execution_count": null,
   "metadata": {},
   "outputs": [],
   "source": [
    "from sklearn.model_selection import train_test_split\n",
    "\n",
    "data = row.iloc[:, 0:10]\n",
    "target = row.iloc[:, 10]\n",
    "xtrain, xtest, ytrain, ytest = train_test_split(\n",
    "    data, target, random_state=30, test_size=0.2\n",
    ")"
   ]
  },
  {
   "cell_type": "markdown",
   "metadata": {},
   "source": [
    "#### 3.选择信息增益划分属性建立决策树分类模型（可对重要参数 max_depth、min_samples_leaf & min_samples_split 等进行设置，优化模型分类效果）\n"
   ]
  },
  {
   "cell_type": "code",
   "execution_count": null,
   "metadata": {},
   "outputs": [],
   "source": [
    "from sklearn import tree\n",
    "\n",
    "clf2 = tree.DecisionTreeClassifier(\n",
    "    criterion=\"entropy\",\n",
    "    random_state=30,\n",
    "    splitter=\"random\",\n",
    "    max_depth=3,\n",
    "    min_samples_leaf=10,\n",
    "    min_samples_split=10,\n",
    ")\n",
    "clf2 = clf2.fit(xtrain, ytrain)"
   ]
  },
  {
   "cell_type": "markdown",
   "metadata": {},
   "source": [
    "返回模型预测的准确度评分 score\n"
   ]
  },
  {
   "cell_type": "code",
   "execution_count": null,
   "metadata": {},
   "outputs": [],
   "source": [
    "clf2.score(xtest, ytest)"
   ]
  },
  {
   "cell_type": "markdown",
   "metadata": {},
   "source": [
    "决策树可视化\n"
   ]
  },
  {
   "cell_type": "code",
   "execution_count": null,
   "metadata": {},
   "outputs": [],
   "source": [
    "import graphviz\n",
    "\n",
    "dot_data = tree.export_graphviz(\n",
    "    clf2,\n",
    "    feature_names=row.columns[0:10],\n",
    "    class_names=[\"患病\", \"未患病\"],\n",
    "    filled=True,\n",
    "    rounded=True,\n",
    ")\n",
    "graph = graphviz.Source(dot_data)\n",
    "graph"
   ]
  },
  {
   "cell_type": "markdown",
   "metadata": {},
   "source": [
    "模型评估(混淆矩阵，分类评估报告)\n"
   ]
  },
  {
   "cell_type": "code",
   "execution_count": null,
   "metadata": {},
   "outputs": [],
   "source": [
    "import numpy as np\n",
    "from sklearn import metrics\n",
    "from sklearn.metrics import classification_report\n",
    "\n",
    "y_pred2 = clf2.predict(xtest)\n",
    "metrics.accuracy_score(ytest, y_pred2)  # 模型的准确率\n",
    "cnf_matrix2 = metrics.confusion_matrix(ytest, y_pred2)\n",
    "print(cnf_matrix2)\n",
    "print(classification_report(ytest, y_pred2))"
   ]
  },
  {
   "cell_type": "markdown",
   "metadata": {},
   "source": [
    "#### 4.选择基尼指数划分属性建立决策树分类模型\n"
   ]
  },
  {
   "cell_type": "code",
   "execution_count": null,
   "metadata": {},
   "outputs": [],
   "source": [
    "clf3 = tree.DecisionTreeClassifier(max_depth=3)\n",
    "clf3 = clf3.fit(xtrain, ytrain)\n",
    "dot_data = tree.export_graphviz(\n",
    "    clf3,\n",
    "    feature_names=row.columns[0:10],\n",
    "    class_names=[\"患病\", \"未患病\"],\n",
    "    filled=True,\n",
    "    rounded=True,\n",
    ")"
   ]
  },
  {
   "cell_type": "markdown",
   "metadata": {},
   "source": [
    "返回模型预测的准确度评分 score\n"
   ]
  },
  {
   "cell_type": "code",
   "execution_count": null,
   "metadata": {},
   "outputs": [],
   "source": [
    "clf3.score(xtest, ytest)"
   ]
  },
  {
   "cell_type": "markdown",
   "metadata": {},
   "source": [
    "决策树可视化\n"
   ]
  },
  {
   "cell_type": "code",
   "execution_count": null,
   "metadata": {},
   "outputs": [],
   "source": [
    "graph = graphviz.Source(dot_data)\n",
    "graph"
   ]
  },
  {
   "cell_type": "markdown",
   "metadata": {},
   "source": [
    "模型评估(混淆矩阵，分类评估报告)\n"
   ]
  },
  {
   "cell_type": "code",
   "execution_count": null,
   "metadata": {},
   "outputs": [],
   "source": [
    "y_pred3 = clf3.predict(xtest)\n",
    "metrics.accuracy_score(ytest, y_pred3)  # 模型的准确率\n",
    "cnf_matrix3 = metrics.confusion_matrix(ytest, y_pred3)\n",
    "print(cnf_matrix3)\n",
    "print(classification_report(ytest, y_pred3))"
   ]
  },
  {
   "cell_type": "markdown",
   "metadata": {},
   "source": [
    "## 实验结果\n"
   ]
  },
  {
   "cell_type": "markdown",
   "metadata": {},
   "source": [
    "1. 采用信息增益划分属性生成的决策树模型评分是多少？在属性划分过程中最重要的特征是哪一个？\n"
   ]
  },
  {
   "cell_type": "markdown",
   "metadata": {},
   "source": [
    "- 采用信息增益划分属性生成的决策树模型评分是 0.7094017094017094\n",
    "- 最重要的特征是总胆红素，由 graphviz 画出的决策树可以知道\n"
   ]
  },
  {
   "cell_type": "markdown",
   "metadata": {},
   "source": [
    "2. 采用基尼系数划分属性生成的决策树模型评分是多少？在属性划分过程中最重要的特征是哪一个？\n"
   ]
  },
  {
   "cell_type": "markdown",
   "metadata": {},
   "source": [
    "- 采用基尼系数划分属性生成的决策树模型评分是 0.7008547008547008\n",
    "- 最重要的特征是直接胆红素，由 graphviz 画出的决策树可以知道\n"
   ]
  },
  {
   "cell_type": "markdown",
   "metadata": {},
   "source": [
    "## 实验所需软件环境和库\n",
    "\n",
    "Jupyter Notebook、Python、Sklearn、Numpy、Pandas、graphviz\n"
   ]
  },
  {
   "cell_type": "markdown",
   "metadata": {},
   "source": [
    "## 教师评语\n"
   ]
  },
  {
   "cell_type": "markdown",
   "metadata": {},
   "source": []
  }
 ],
 "metadata": {
  "kernelspec": {
   "display_name": "Python 3.9.7 ('base')",
   "language": "python",
   "name": "python3"
  },
  "language_info": {
   "codemirror_mode": {
    "name": "ipython",
    "version": 3
   },
   "file_extension": ".py",
   "mimetype": "text/x-python",
   "name": "python",
   "nbconvert_exporter": "python",
   "pygments_lexer": "ipython3",
   "version": "3.10.13"
  },
  "vscode": {
   "interpreter": {
    "hash": "406f26811bead5fcdd0bab426e57323b5d8401a0c5cd4479a7a438038bbbde2e"
   }
  }
 },
 "nbformat": 4,
 "nbformat_minor": 4
}

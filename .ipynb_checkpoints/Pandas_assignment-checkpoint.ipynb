{
 "cells": [
  {
   "cell_type": "markdown",
   "metadata": {},
   "source": [
    "### 自主学习：\n",
    "\n",
    "#### 学习内容：Pandas数据分析库基本操作\n",
    "\n",
    "#### 学习目标：\n",
    "（1）Pandas中的主要数据结构\n",
    "\n",
    "（2）索引对象与常用属性\n",
    "\n",
    "（3）DataFrame的数据查询与编辑\n",
    "\n",
    "（4）数据运算\n",
    "#### 重点和难点\n",
    "* 数据导入\n",
    "\n",
    "* 数据查询与编辑\n",
    "\n",
    "#### 参考资料：教材246~250\n"
   ]
  },
  {
   "cell_type": "markdown",
   "metadata": {},
   "source": [
    "#### Pandas数据切片与索引。\n",
    "在对Pandas数据进行操作时，如何选择部分行和列。\n",
    "\n",
    "**1.loc，用法为pandas.loc[行索引，列索引]，根据行和列索引名称来进行选择**"
   ]
  },
  {
   "cell_type": "code",
   "execution_count": 1,
   "metadata": {},
   "outputs": [
    {
     "name": "stdout",
     "output_type": "stream",
     "text": [
      "   one  two  four\n",
      "a    0    1     2\n",
      "c    3    4     5\n",
      "d    6    7     8\n"
     ]
    }
   ],
   "source": [
    "import pandas as pd\n",
    "import numpy as np\n",
    "df1 = pd.DataFrame(np.arange(9).reshape(3,3),\n",
    "index = ['a','c','d'],columns = ['one','two','four'])\n",
    "print(df1)"
   ]
  },
  {
   "cell_type": "code",
   "execution_count": 2,
   "metadata": {},
   "outputs": [
    {
     "name": "stdout",
     "output_type": "stream",
     "text": [
      "获取第1行数据\n",
      " one     0\n",
      "two     1\n",
      "four    2\n",
      "Name: a, dtype: int32\n"
     ]
    }
   ],
   "source": [
    "print(\"获取第1行数据\\n\",df1.loc['a',:])"
   ]
  },
  {
   "cell_type": "code",
   "execution_count": 3,
   "metadata": {},
   "outputs": [
    {
     "name": "stdout",
     "output_type": "stream",
     "text": [
      "获取第1,3行，1,3列数据\n",
      "    one  four\n",
      "a    0     2\n",
      "d    6     8\n"
     ]
    }
   ],
   "source": [
    "print(\"获取第1,3行，1,3列数据\\n\",df1.loc[['a','d'],['one','four']])"
   ]
  },
  {
   "cell_type": "code",
   "execution_count": 4,
   "metadata": {},
   "outputs": [
    {
     "name": "stdout",
     "output_type": "stream",
     "text": [
      "获取第1列数据\n",
      " a    0\n",
      "c    3\n",
      "d    6\n",
      "Name: one, dtype: int32\n"
     ]
    }
   ],
   "source": [
    "print(\"获取第1列数据\\n\",df1.loc[:,'one'])"
   ]
  },
  {
   "cell_type": "markdown",
   "metadata": {},
   "source": [
    "**2.iloc用法。iloc使用行和列的数字索引，行索引就是0到n-1，列索引就是0到n-1**"
   ]
  },
  {
   "cell_type": "code",
   "execution_count": 5,
   "metadata": {},
   "outputs": [
    {
     "name": "stdout",
     "output_type": "stream",
     "text": [
      "获取第1行数据\n",
      " one     0\n",
      "two     1\n",
      "four    2\n",
      "Name: a, dtype: int32\n"
     ]
    }
   ],
   "source": [
    "print(\"获取第1行数据\\n\",df1.iloc[0,:])"
   ]
  },
  {
   "cell_type": "code",
   "execution_count": 6,
   "metadata": {},
   "outputs": [
    {
     "name": "stdout",
     "output_type": "stream",
     "text": [
      "获取第1,3行，1,3列数据\n",
      "    one  four\n",
      "a    0     2\n",
      "d    6     8\n"
     ]
    }
   ],
   "source": [
    "print(\"获取第1,3行，1,3列数据\\n\",df1.iloc[[0,2],[0,2]])"
   ]
  },
  {
   "cell_type": "code",
   "execution_count": 7,
   "metadata": {},
   "outputs": [
    {
     "name": "stdout",
     "output_type": "stream",
     "text": [
      "获取第1列数据\n",
      " a    0\n",
      "c    3\n",
      "d    6\n",
      "Name: one, dtype: int32\n"
     ]
    }
   ],
   "source": [
    "print(\"获取第1列数据\\n\",df1.iloc[:,0])"
   ]
  },
  {
   "cell_type": "code",
   "execution_count": 8,
   "metadata": {},
   "outputs": [
    {
     "name": "stdout",
     "output_type": "stream",
     "text": [
      "获取第1,2行，1,2列数据\n",
      "    one  two\n",
      "a    0    1\n",
      "c    3    4\n"
     ]
    }
   ],
   "source": [
    "print(\"获取第1,2行，1,2列数据\\n\",df1.iloc[0:2,0:2])"
   ]
  },
  {
   "cell_type": "markdown",
   "metadata": {},
   "source": [
    "**3.布尔选择。选择符合某种条件的数据，就需要使用布尔选择。**"
   ]
  },
  {
   "cell_type": "code",
   "execution_count": 9,
   "metadata": {},
   "outputs": [],
   "source": [
    "data={'name':['Angel',\"Tom\",\"cyning\",'Anna',\"peter\"],\n",
    "     'age':[11,15,23,9,25],\n",
    "     'score':[89,90,96,76,63]}\n",
    "dff=pd.DataFrame(data)"
   ]
  },
  {
   "cell_type": "code",
   "execution_count": 10,
   "metadata": {},
   "outputs": [
    {
     "name": "stdout",
     "output_type": "stream",
     "text": [
      "选择成绩大于60的数据\n",
      "      name  age  score\n",
      "0   Angel   11     89\n",
      "1     Tom   15     90\n",
      "2  cyning   23     96\n"
     ]
    }
   ],
   "source": [
    "print(\"选择成绩大于60的数据\\n\",dff[dff['score']>80])"
   ]
  },
  {
   "cell_type": "code",
   "execution_count": 11,
   "metadata": {},
   "outputs": [
    {
     "name": "stdout",
     "output_type": "stream",
     "text": [
      "获取Angel和peter的成绩单\n",
      "     name  age  score\n",
      "0  Angel   11     89\n",
      "4  peter   25     63\n"
     ]
    }
   ],
   "source": [
    "print(\"获取Angel和peter的成绩单\\n\",dff[(dff['name']=='Angel')|(dff['name']=='peter')])"
   ]
  },
  {
   "cell_type": "markdown",
   "metadata": {},
   "source": [
    "#### 要求：\n",
    "\n",
    "学习完成后，完成下列习题，并将此文档（包括运行结果）另存为html格式文件，文件名为：学号+姓名+自主学习Pandas.html，上传至教师机。"
   ]
  },
  {
   "cell_type": "markdown",
   "metadata": {},
   "source": [
    "### 习题\n",
    "\n",
    "表 7.4 Class1\n",
    "\n",
    "name | Course1 | Course2 | Course3 \n",
    "---  | ---  | --- | --- \n",
    "Jack | 47 | 88 | 46 \n",
    "Anna | 94| 100 | 48 \n",
    "Cyning | 100 | 98 | 100 \n",
    "Tom | 96| 94 | 76 \n",
    "Peter | 51 | 96 | 96 \n",
    "John | 98| 94 | 43 \n",
    "Jerry | 59 | 92 | 76 \n",
    "Timmy | 100| 44 | 69 \n",
    "Elsa | 75 | 90 | 49 \n",
    "Steve | 98| 80 | 72 \n",
    "\n",
    "表 7.5 Class2\n",
    "\n",
    "name | Course1 | Course2 | Course3 \n",
    "--- | --- | --- | --- \n",
    "Cole | 43 | 66 | 94 \n",
    "David | 67| 98 | 20 \n",
    "Nick | 90 | 76 | 42 \n",
    "Paul | 21| 72 | 98\n",
    "April | 90 | 87 | 41 \n",
    "Sam | 45| 94 | 80 \n",
    "Carry | 76 | 78 | 20 \n",
    "Ginna | 49| 66 | 14\n",
    "Lily | 53 | 74 | 51 \n",
    "Rose | 49| 70 | 67\n",
    "\n",
    "可通过mean()、max()、min()、std()方法分别得到均值、最大值、最小值、标准差等信息（也可以直接通过describe()方法一次性获得均值、最大值等信息，再挑选需要信息添加进原本表中），再通过append()方法将均值等信息添加到原来表中。\n"
   ]
  },
  {
   "cell_type": "markdown",
   "metadata": {},
   "source": [
    "（1）在不使用库函数和使用库函数两种情况下，分别计算Class1和Class2每门课成绩的均值、方差、标准差、最大值和最小值，并将每门课成绩的统计结果添加在对应的课程下方。"
   ]
  },
  {
   "cell_type": "code",
   "execution_count": 12,
   "metadata": {},
   "outputs": [
    {
     "name": "stdout",
     "output_type": "stream",
     "text": [
      "         Course1     Course2     Course3\n",
      "mean   81.800000   87.600000   70.200000\n",
      "std    21.765416   16.324487   22.503333\n",
      "min    47.000000   44.000000   43.000000\n",
      "max   100.000000  100.000000  100.000000 \n",
      "\n",
      "        name     Course1     Course2     Course3\n",
      "0       Jack   47.000000   88.000000   46.000000\n",
      "1       Anna   94.000000  100.000000   48.000000\n",
      "2     Cyning  100.000000   98.000000  100.000000\n",
      "3        Tom   96.000000   94.000000   76.000000\n",
      "4      Peter   51.000000   96.000000   96.000000\n",
      "5       John   98.000000   94.000000   43.000000\n",
      "6      Jerry   59.000000   92.000000   76.000000\n",
      "7      Timmy  100.000000   44.000000   96.000000\n",
      "8       Elsa   75.000000   90.000000   49.000000\n",
      "9      Steve   98.000000   80.000000   72.000000\n",
      "mean     NaN   81.800000   87.600000   70.200000\n",
      "std      NaN   21.765416   16.324487   22.503333\n",
      "min      NaN   47.000000   44.000000   43.000000\n",
      "max      NaN  100.000000  100.000000  100.000000 \n",
      "\n",
      "        Course1   Course2    Course3\n",
      "mean  58.300000  78.10000  52.600000\n",
      "std   22.116108  11.27879  30.948703\n",
      "min   21.000000  66.00000  14.000000\n",
      "max   90.000000  98.00000  98.000000 \n",
      "\n",
      "       name    Course1   Course2    Course3\n",
      "0      Cole  43.000000  66.00000  94.000000\n",
      "1     David  67.000000  98.00000  20.000000\n",
      "2      Nick  90.000000  76.00000  41.000000\n",
      "3      Paul  21.000000  72.00000  98.000000\n",
      "4     April  90.000000  87.00000  41.000000\n",
      "5       Sam  45.000000  94.00000  80.000000\n",
      "6     Carry  76.000000  78.00000  20.000000\n",
      "7     Ginna  49.000000  66.00000  14.000000\n",
      "8      Lily  53.000000  74.00000  51.000000\n",
      "9      Rose  49.000000  70.00000  67.000000\n",
      "mean    NaN  58.300000  78.10000  52.600000\n",
      "std     NaN  22.116108  11.27879  30.948703\n",
      "min     NaN  21.000000  66.00000  14.000000\n",
      "max     NaN  90.000000  98.00000  98.000000 \n",
      "\n"
     ]
    }
   ],
   "source": [
    "import pandas as pd\n",
    "import numpy as np\n",
    "Class1={'name':[\"Jack\",\"Anna\",\"Cyning\",\"Tom\",\"Peter\",\"John\",\"Jerry\",\"Timmy\",\"Elsa\",\"Steve\"],\n",
    "     'Course1':[47,94,100,96,51,98,59,100,75,98],\n",
    "     'Course2':[88,100,98,94,96,94,92,44,90,80],\n",
    "     'Course3':[46,48,100,76,96,43,76,96,49,72]}\n",
    "df_Class1=pd.DataFrame(Class1)\n",
    "#print(df_Class1.describe(),'\\n')\n",
    "df_Class1_describe=pd.DataFrame(df_Class1.describe())\n",
    "print(df_Class1_describe.iloc[[1,2,3,7],:],'\\n')\n",
    "Class1_change=df_Class1.append(df_Class1_describe.iloc[[1,2,3,7],:])\n",
    "print(Class1_change,'\\n')\n",
    "\n",
    "Class2={'name':[\"Cole\",\"David\",\"Nick\",\"Paul\",\"April\",\"Sam\",\"Carry\",\"Ginna\",\"Lily\",\"Rose\"],\n",
    "     'Course1':[43,67,90,21,90,45,76,49,53,49],\n",
    "     'Course2':[66,98,76,72,87,94,78,66,74,70],\n",
    "     'Course3':[94,20,41,98,41,80,20,14,51,67]}\n",
    "df_Class2=pd.DataFrame(Class2)\n",
    "#print(df.describe(),'\\n')\n",
    "df_Class2_describe=pd.DataFrame(df_Class2.describe())\n",
    "print(df_Class2_describe.iloc[[1,2,3,7],:],'\\n')\n",
    "Class2_change=df_Class2.append(df_Class2_describe.iloc[[1,2,3,7],:])\n",
    "print(Class2_change,'\\n')"
   ]
  },
  {
   "cell_type": "markdown",
   "metadata": {},
   "source": [
    "（2）在Class1中找出Course1中成绩高于95分、Course2得分低于60分的同学。在Class2中找出Course1、Course2和Course3均高于75的同学。（可通过.loc方法找到符合条件的样本）"
   ]
  },
  {
   "cell_type": "code",
   "execution_count": 13,
   "metadata": {},
   "outputs": [
    {
     "name": "stdout",
     "output_type": "stream",
     "text": [
      "Class1中获取Course1中成绩高于95分、Course2得分低于60分的同学成绩单\n",
      "     name  Course1  Course2  Course3\n",
      "7  Timmy      100       44       96 \n",
      "\n",
      "Class2中获取Course1、Course2和Course3均高于75的同学成绩单\n",
      " Empty DataFrame\n",
      "Columns: [name, Course1, Course2, Course3]\n",
      "Index: [] \n",
      "\n"
     ]
    }
   ],
   "source": [
    "print(\"Class1中获取Course1中成绩高于95分、Course2得分低于60分的同学成绩单\\n\",df_Class1[(df_Class1['Course1']>95)&(df_Class1['Course2']<60)],'\\n')\n",
    "\n",
    "print(\"Class2中获取Course1、Course2和Course3均高于75的同学成绩单\\n\",df_Class2[(df_Class2['Course1']>75)&(df_Class2['Course2']>75)&(df_Class2['Course3']>75)],'\\n')"
   ]
  },
  {
   "cell_type": "markdown",
   "metadata": {},
   "source": [
    "（3）将表7.4和表7.5按照对应的列名合并为一个表，分别统计Course1和Course2、Course3中成绩高于60分的人数，并绘制条形图。"
   ]
  },
  {
   "cell_type": "code",
   "execution_count": 14,
   "metadata": {},
   "outputs": [],
   "source": [
    "df_All=df_Class1.append(df_Class2,ignore_index=True)\n",
    "#print(df_All)\n",
    "count1=df_All[df_All['Course1']>60].count()\n",
    "count2=df_All[df_All['Course2']>60].count()\n",
    "count3=df_All[df_All['Course3']>60].count()"
   ]
  },
  {
   "cell_type": "code",
   "execution_count": 15,
   "metadata": {},
   "outputs": [
    {
     "data": {
      "image/png": "[encoded data removed]",
      "text/plain": [
       "<Figure size 432x288 with 1 Axes>"
      ]
     },
     "metadata": {
      "needs_background": "light"
     },
     "output_type": "display_data"
    }
   ],
   "source": [
    "import matplotlib as plt\n",
    "from pylab import * \n",
    "\n",
    "a=[\"Course1>60\",\"Course2>60\",\"Course3>60\"]\n",
    "list=[count1[0],count2[0],count3[0]]\n",
    "\n",
    "X = np.asarray(a)\n",
    "Y1 = np.asarray(list)\n",
    "\n",
    "bar(X, Y1, facecolor='#9999ff', edgecolor='white')\n",
    "\n",
    "for x,y in zip(X,Y1):\n",
    "    text(x, y, '%.2f' % y, ha='center', va= 'bottom')\n",
    "\n",
    "plt.xlabel(\"Course\")\n",
    "plt.ylabel(\"Count\")\n",
    "show()"
   ]
  },
  {
   "cell_type": "markdown",
   "metadata": {},
   "source": [
    "（4）根据（1）的统计结果，在一张图中分别绘制Class1和Class2的3门课成绩的均值直线图。绘制Class1的3门课成绩的散点图以及Class2的3门课成绩的箱型图。"
   ]
  },
  {
   "cell_type": "code",
   "execution_count": 17,
   "metadata": {},
   "outputs": [
    {
     "name": "stdout",
     "output_type": "stream",
     "text": [
      "Course1    81.8\n",
      "Course2    87.6\n",
      "Course3    70.2\n",
      "Name: mean, dtype: float64\n",
      "Course1    58.3\n",
      "Course2    78.1\n",
      "Course3    52.6\n",
      "Name: mean, dtype: float64\n"
     ]
    },
    {
     "data": {
      "image/png": "[encoded data removed]",
      "text/plain": [
       "<Figure size 432x288 with 1 Axes>"
      ]
     },
     "metadata": {
      "needs_background": "light"
     },
     "output_type": "display_data"
    }
   ],
   "source": [
    "print(df_Class1_describe.iloc[1,:])\n",
    "print(df_Class2_describe.iloc[1,:])\n",
    "x = np.array(['Course1','Course2','Course3'])\n",
    "ypoints1 = np.array(df_Class1_describe.iloc[1,:])\n",
    "ypoints2 = np.array(df_Class2_describe.iloc[1,:])\n",
    "\n",
    "plt.plot(x,ypoints1, linestyle = 'dotted')\n",
    "plt.plot(x,ypoints2, linestyle = 'dashdot')\n",
    "plt.show()"
   ]
  },
  {
   "cell_type": "code",
   "execution_count": 18,
   "metadata": {},
   "outputs": [
    {
     "data": {
      "image/png": "[encoded data removed]",
      "text/plain": [
       "<Figure size 432x288 with 1 Axes>"
      ]
     },
     "metadata": {
      "needs_background": "light"
     },
     "output_type": "display_data"
    },
    {
     "data": {
      "image/png": "[encoded data removed]",
      "text/plain": [
       "<Figure size 432x288 with 1 Axes>"
      ]
     },
     "metadata": {
      "needs_background": "light"
     },
     "output_type": "display_data"
    }
   ],
   "source": [
    "x1 = np.array(['Course1', 'Course1', 'Course1', 'Course1', 'Course1', 'Course1', 'Course1', 'Course1', 'Course1', 'Course1'])\n",
    "y1 = df_Class1.iloc[:,1]\n",
    "plt.scatter(x1,y1)\n",
    "\n",
    "x2 = np.array(['Course2', 'Course2', 'Course2', 'Course2', 'Course2', 'Course2', 'Course2', 'Course2', 'Course2', 'Course2'])\n",
    "y2 = df_Class1.iloc[:,2]\n",
    "plt.scatter(x2,y2)\n",
    "\n",
    "x3 = np.array(['Course3', 'Course3', 'Course3', 'Course3', 'Course3', 'Course3', 'Course3', 'Course3', 'Course3', 'Course3'])\n",
    "y3 = df_Class1.iloc[:,3]\n",
    "plt.xlabel(\"Class1-Course\")\n",
    "plt.scatter(x3,y3)\n",
    "show()\n"
   ]
  },
  {
   "cell_type": "code",
   "execution_count": 19,
   "metadata": {},
   "outputs": [
    {
     "data": {
      "image/png": "[encoded data removed]",
      "text/plain": [
       "<Figure size 432x288 with 1 Axes>"
      ]
     },
     "metadata": {
      "needs_background": "light"
     },
     "output_type": "display_data"
    },
    {
     "data": {
      "image/png": "[encoded data removed]",
      "text/plain": [
       "<Figure size 432x288 with 1 Axes>"
      ]
     },
     "metadata": {
      "needs_background": "light"
     },
     "output_type": "display_data"
    }
   ],
   "source": [
    "df_Class1.boxplot()\n",
    "show()\n",
    "\n",
    "df_Class2.boxplot()\n",
    "show()"
   ]
  }
 ],
 "metadata": {
  "kernelspec": {
   "display_name": "Python 3 (ipykernel)",
   "language": "python",
   "name": "python3"
  },
  "language_info": {
   "codemirror_mode": {
    "name": "ipython",
    "version": 3
   },
   "file_extension": ".py",
   "mimetype": "text/x-python",
   "name": "python",
   "nbconvert_exporter": "python",
   "pygments_lexer": "ipython3",
   "version": "3.9.7"
  }
 },
 "nbformat": 4,
 "nbformat_minor": 2
}

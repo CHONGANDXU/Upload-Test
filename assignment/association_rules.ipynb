{
 "cells": [
  {
   "cell_type": "markdown",
   "metadata": {},
   "source": [
    "## 实验二：关联规则挖掘分析\n",
    "\n",
    "&emsp;&emsp;关联规则主要用于寻找数据集中项集之间的关联关系。它揭示了数据项间的未知关系，基于样本的统计规律，进行关联规则挖掘。根据所挖掘的关联关系，可以从一个属性信息来推断另一个属性的信息。当置信度或提升度达到某一阈值时，则认为规则成立。  \n",
    "&emsp;&emsp;关联规则挖掘主要分为两个部分：第一个是找出事物数据库中所有大于等于事先设定的最小支持度的数据项集；第二个是利用频繁项集生成所需要的关联规则，根据事先设定的最小置信度进行取舍，最后得到强关联规则。\n",
    "\n",
    "#### Apriori 算法的主要步骤如下：\n",
    "\n",
    "(1)扫描全部数据，产生候选 1-项集的集合$C_{1}$。  \n",
    "(2)根据最小支持度，由候选 1-项集的集合$C_{1}$产生频繁 1-项集的集合$L_{1}$。  \n",
    "(3)对 K>1，重复执行步骤(4)-(6)。  \n",
    "(4)由$L_{k}$执行连接和剪枝操作，产生候选（k+1）-项集的集合$C_{k+1}$。  \n",
    "(5)根据最小支持度，由候选（k+1）-项集的集合$C_{k+1}$，产生频繁（k+1）-项集的集合$L_{k+1}$。  \n",
    "(6)若 L≠$\\phi $ ,则 k=k+1，调往步骤(4)；否则，调往步骤(7)。  \n",
    "(7)根据最小置信度，由频繁项集产生强关联规则，结束。\n"
   ]
  },
  {
   "cell_type": "markdown",
   "metadata": {},
   "source": [
    "### 1. 应用 python 语言编写程序，挖掘数据集”腹泻数据.xlsx”中所有频繁项集，支持度阈值为 0.1。\n"
   ]
  },
  {
   "cell_type": "code",
   "execution_count": null,
   "metadata": {},
   "outputs": [],
   "source": [
    "import pandas as pd\n",
    "\n",
    "trans = pd.read_csv(\"腹泻数据.csv\", header=None, encoding=\"utf-8\")\n",
    "trans.head()\n",
    "trans_list = trans.values.tolist()\n",
    "\n",
    "\n",
    "def load_data(x):\n",
    "    data = []\n",
    "    for trans in x:\n",
    "        tem = []\n",
    "        for i in trans:\n",
    "            if type(i) == str:\n",
    "                tem.append(i)\n",
    "        data.append(tem)\n",
    "    return data\n",
    "\n",
    "\n",
    "def createC1(dataSet):\n",
    "    C1 = []\n",
    "    for transaction in dataSet:\n",
    "        for item in transaction:\n",
    "            if not [item] in C1:\n",
    "                C1.append([item])\n",
    "    C1.sort()\n",
    "    return list(map(frozenset, C1))\n",
    "\n",
    "\n",
    "def scanD(D, Ck, minSupport):\n",
    "    ssCnt = {}\n",
    "    for tid in D:\n",
    "        for can in Ck:\n",
    "            if can.issubset(tid):\n",
    "                if not can in ssCnt:\n",
    "                    ssCnt[can] = 1\n",
    "                else:\n",
    "                    ssCnt[can] += 1\n",
    "    numItems = float(len(D))\n",
    "    retList = []\n",
    "    supportData = {}\n",
    "    for key in ssCnt:\n",
    "        support = ssCnt[key] / numItems\n",
    "        if support >= minSupport:\n",
    "            retList.insert(0, key)\n",
    "        supportData[key] = support\n",
    "    return retList, supportData\n",
    "\n",
    "\n",
    "def aprioriGen(Lk, k):\n",
    "    retList = []\n",
    "    lenLk = len(Lk)\n",
    "    for i in range(lenLk):\n",
    "        for j in range(i + 1, lenLk):\n",
    "            L1 = list(Lk[i])[: k - 2]\n",
    "            L2 = list(Lk[j])[: k - 2]\n",
    "            L1.sort()\n",
    "            L2.sort()\n",
    "            if L1 == L2:\n",
    "                retList.append(Lk[i] | Lk[j])\n",
    "    return retList\n",
    "\n",
    "\n",
    "def apriori(dataSet, minSupport=0.1):\n",
    "    C1 = createC1(dataSet)\n",
    "    D = list(map(set, dataSet))\n",
    "    L1, supportData = scanD(D, C1, 0.1)\n",
    "    L = [L1]\n",
    "    k = 2\n",
    "    while len(L[k - 2]) > 0:\n",
    "        Ck = aprioriGen(L[k - 2], k)\n",
    "        Lk, supK = scanD(D, Ck, minSupport)\n",
    "        supportData.update(supK)\n",
    "        L.append(Lk)\n",
    "        k += 1\n",
    "    return L, supportData\n",
    "\n",
    "\n",
    "def generateRules(L, supportData, minConf=0.7):\n",
    "    bigRuleList = []\n",
    "    for i in range(1, len(L)):\n",
    "        for freqSet in L[i]:\n",
    "            H1 = [frozenset([item]) for item in freqSet]\n",
    "            if i > 1:\n",
    "                rulesFromConseq(freqSet, H1, supportData, bigRuleList, minConf)\n",
    "            else:\n",
    "                calcConf(freqSet, H1, supportData, bigRuleList, minConf)\n",
    "        return bigRuleList\n",
    "\n",
    "\n",
    "def calcConf(freqSet, H, supportData, br1, minConf=0.7):\n",
    "    prunedH = []\n",
    "    for conseq in H:\n",
    "        conf = supportData[freqSet] / supportData[freqSet - conseq]\n",
    "        if conf >= minConf:\n",
    "            print(freqSet - conseq, \"-->\", conseq, \"conf:\", conf)\n",
    "            br1.append((freqSet - conseq, conseq, conf))\n",
    "            prunedH.append(conseq)\n",
    "    return prunedH\n",
    "\n",
    "\n",
    "def rulesFromConseq(freqSet, H, supportData, br1, minConf=0.7):\n",
    "    m = len(H[0])\n",
    "    if len(freqSet) > (m + 1):\n",
    "        Hmp1 = apriori(H, m + 1)\n",
    "        Hmp1 = calcConf(freqSet, Hmp1, supportData, br1, minConf)\n",
    "        if len(Hmp1) > 1:\n",
    "            rulesFromConseq(freqSet, H, supportData, br1, minConf)\n",
    "\n",
    "\n",
    "if __name__ == \"__main__\":\n",
    "    dataSet = load_data(trans_list)\n",
    "    L, supportData = apriori(dataSet, 0.1)\n",
    "    rules = generateRules(L, supportData, minConf=0.7)\n",
    "    # print(rules)\n",
    "    print(L)"
   ]
  },
  {
   "cell_type": "markdown",
   "metadata": {},
   "source": [
    "### 2. 利用 sklearn 中的 Apriori 库函数，挖掘”腹泻数据.xlsx”的频繁项集和关联规则，支持度阈值 0.1，置信度阈值 0.7。\n"
   ]
  },
  {
   "cell_type": "code",
   "execution_count": null,
   "metadata": {},
   "outputs": [],
   "source": [
    "from efficient_apriori import apriori\n",
    "\n",
    "trans = pd.read_csv(\"腹泻数据.csv\", header=None, encoding=\"utf-8\")\n",
    "trans.head()\n",
    "trans_list = trans.values.tolist()\n",
    "\n",
    "\n",
    "def load_data(x):\n",
    "    data = []\n",
    "    for trans in x:\n",
    "        tem = []\n",
    "        for i in trans:\n",
    "            if type(i) == str:\n",
    "                tem.append(i)\n",
    "        data.append(tem)\n",
    "    return data\n",
    "\n",
    "\n",
    "trans_final = load_data(trans_list)\n",
    "trans_final"
   ]
  },
  {
   "cell_type": "code",
   "execution_count": null,
   "metadata": {},
   "outputs": [],
   "source": [
    "itemsets, rules = apriori(trans_final, min_support=0.1, min_confidence=0.7)\n",
    "# itemsets是字典形式存储，键为频繁项集的元素个数，值也是一个字典（频繁项集为键，值为支持数）\n",
    "print(itemsets, \"\\n\")\n",
    "# rules规则是以列表形式存储\n",
    "print(rules)"
   ]
  },
  {
   "cell_type": "markdown",
   "metadata": {},
   "source": [
    "### 3. 利用 mlxtend 库函数，挖掘”腹泻数据.xlsx”的频繁项集和关联规则，支持度阈值 0.1，置信度阈值 0.7。\n"
   ]
  },
  {
   "cell_type": "code",
   "execution_count": null,
   "metadata": {},
   "outputs": [],
   "source": [
    "from mlxtend.frequent_patterns import apriori, association_rules\n",
    "from mlxtend.preprocessing import TransactionEncoder"
   ]
  },
  {
   "cell_type": "code",
   "execution_count": null,
   "metadata": {},
   "outputs": [],
   "source": [
    "df = pd.DataFrame(trans_final)"
   ]
  },
  {
   "cell_type": "code",
   "execution_count": null,
   "metadata": {},
   "outputs": [],
   "source": [
    "te = TransactionEncoder()\n",
    "trans_new = te.fit_transform(trans_final)\n",
    "trans_new = pd.DataFrame(trans_new, columns=te.columns_)\n",
    "trans_new"
   ]
  },
  {
   "cell_type": "code",
   "execution_count": null,
   "metadata": {},
   "outputs": [],
   "source": [
    "frequent_itemset = apriori(trans_new, min_support=0.1, use_colnames=True)\n",
    "frequent_itemset"
   ]
  },
  {
   "cell_type": "code",
   "execution_count": null,
   "metadata": {},
   "outputs": [],
   "source": [
    "frequent_itemset.sort_values(by=\"support\", ascending=True)"
   ]
  },
  {
   "cell_type": "code",
   "execution_count": null,
   "metadata": {},
   "outputs": [],
   "source": [
    "rules_mlxtend = association_rules(\n",
    "    frequent_itemset, metric=\"confidence\", min_threshold=0.7\n",
    ")\n",
    "rules_mlxtend"
   ]
  }
 ],
 "metadata": {
  "kernelspec": {
   "display_name": "Python 3 (ipykernel)",
   "language": "python",
   "name": "python3"
  },
  "language_info": {
   "codemirror_mode": {
    "name": "ipython",
    "version": 3
   },
   "file_extension": ".py",
   "mimetype": "text/x-python",
   "name": "python",
   "nbconvert_exporter": "python",
   "pygments_lexer": "ipython3",
   "version": "3.10.13"
  }
 },
 "nbformat": 4,
 "nbformat_minor": 2
}

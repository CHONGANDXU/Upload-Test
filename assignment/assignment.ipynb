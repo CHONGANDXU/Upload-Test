{
 "cells": [
  {
   "cell_type": "markdown",
   "metadata": {},
   "source": [
    "# 2022.3.4 作业\n",
    "\n",
    "## 3 或 5 的倍数问题\n",
    "\n",
    "在小于 10 的自然数中,3 或 5 的倍数有 3、5、6、9,这些数之和是 23。用 python 语言编程求小于 1000 的自然数中所有 3 或 5 的倍数之和。\n",
    "\n",
    "要求：代码及结果,可以在电脑上完成之后截屏提交。\n"
   ]
  },
  {
   "cell_type": "code",
   "execution_count": 4,
   "metadata": {},
   "outputs": [
    {
     "name": "stdout",
     "output_type": "stream",
     "text": [
      "小于1000的自然数中所有3或5的倍数之和为: 233168\n"
     ]
    }
   ],
   "source": [
    "def sum_of_multiples(limit):\n",
    "    sum = 0\n",
    "    for i in range(limit):\n",
    "        if i % 3 == 0 or i % 5 == 0:\n",
    "            sum += i\n",
    "    return sum\n",
    "\n",
    "\n",
    "# 设置限制为1000\n",
    "limit = 1000\n",
    "print(\"小于1000的自然数中所有3或5的倍数之和为:\", sum_of_multiples(limit))"
   ]
  },
  {
   "cell_type": "markdown",
   "metadata": {},
   "source": [
    "## 斐波那契数列中的每一项都是前两项的和。\n",
    "\n",
    "由 1 和 2 开始生成的斐波那契数列的前 10 项为：1,2,3,5,8,13,21,34,55,89,…考虑该斐波那契数列中不超过三百万的项,用 python 语言编程求其中为奇数的项之和。\n",
    "\n",
    "要求：代码及结果,可以在电脑上完成之后截屏提交。\n"
   ]
  },
  {
   "cell_type": "code",
   "execution_count": 2,
   "metadata": {},
   "outputs": [
    {
     "name": "stdout",
     "output_type": "stream",
     "text": [
      "斐波那契数列中不超过三百万的奇数项之和为: 4613731\n"
     ]
    }
   ],
   "source": [
    "def sum_of_odd_fibonacci(limit):\n",
    "    a, b = 1, 2\n",
    "    sum_of_odds = 0\n",
    "    while a <= limit:\n",
    "        if a % 2 != 0:\n",
    "            sum_of_odds += a\n",
    "        a, b = b, a + b\n",
    "    return sum_of_odds\n",
    "\n",
    "\n",
    "# 设置限制为三百万\n",
    "limit = 3000000\n",
    "print(\"斐波那契数列中不超过三百万的奇数项之和为:\", sum_of_odd_fibonacci(limit))"
   ]
  },
  {
   "cell_type": "markdown",
   "metadata": {},
   "source": [
    "$$\n",
    "\\begin{aligned}\n",
    "&当 x\\rightarrow 0 时 \\\\\n",
    "&x\\sim \\sin \\mathrm{x} \\sim \\arcsin{\\mathrm{x}} \\sim \\tan \\mathrm{x} \\sim \\arctan{\\mathrm{x}} \\sim \\mathrm{e}^{\\mathrm{x}}-1 \\sim \\ln (1+\\mathrm{x}) \\\\\n",
    "\n",
    "&x^{2}+x \\sim x \\\\\n",
    "\n",
    "&1-\\cos x \\sim \\frac{1}{2} x^{2} \\\\\n",
    "\n",
    "&(1+x)^{\\alpha}-1 \\sim \\alpha x \\\\\n",
    "\n",
    "&a^{x}-1 \\sim x \\ln a \\\\\n",
    "\n",
    "&\\log _{a}(1+x) \\sim \\frac{1}{\\ln a} x \\\\\n",
    "\n",
    "&(1+\\alpha x)^{\\frac{m}{n}}-1 \\sim \\frac{m}{n} \\alpha x \\\\\n",
    "\n",
    "&\\sqrt{(1+x)}-\\sqrt{(1-x)} \\sim x\n",
    "\\end{aligned}\n",
    "$$\n"
   ]
  },
  {
   "cell_type": "code",
   "execution_count": 3,
   "metadata": {},
   "outputs": [
    {
     "name": "stdout",
     "output_type": "stream",
     "text": [
      "[-1.33564599e+00 -1.17816807e+00 -1.09942912e+00 -1.09942912e+00\n",
      " -8.63212252e-01 -7.84473297e-01 -7.84473297e-01 -7.05734341e-01\n",
      " -6.26995386e-01 -6.26995386e-01 -3.90778520e-01 -3.90778520e-01\n",
      " -3.90778520e-01 -3.90778520e-01  2.91625761e-03  2.39133124e-01\n",
      "  2.39133124e-01  3.96611035e-01  3.96611035e-01  3.96611035e-01\n",
      "  3.96611035e-01  4.75349990e-01  7.90305812e-01  1.18400059e+00\n",
      "  1.26273954e+00  1.73517328e+00  3.15247448e+00]\n"
     ]
    }
   ],
   "source": [
    "from sklearn import preprocessing\n",
    "import numpy as np\n",
    "\n",
    "# 初始化数据\n",
    "x = np.array(\n",
    "    [\n",
    "        13,\n",
    "        15,\n",
    "        16,\n",
    "        16,\n",
    "        19,\n",
    "        20,\n",
    "        20,\n",
    "        21,\n",
    "        22,\n",
    "        22,\n",
    "        25,\n",
    "        25,\n",
    "        25,\n",
    "        25,\n",
    "        30,\n",
    "        33,\n",
    "        33,\n",
    "        35,\n",
    "        35,\n",
    "        35,\n",
    "        35,\n",
    "        36,\n",
    "        40,\n",
    "        45,\n",
    "        46,\n",
    "        52,\n",
    "        70,\n",
    "    ]\n",
    ")\n",
    "# 将数据进行Z-Score规范化\n",
    "scaled_x = preprocessing.scale(x)\n",
    "print(scaled_x)"
   ]
  }
 ],
 "metadata": {
  "interpreter": {
   "hash": "406f26811bead5fcdd0bab426e57323b5d8401a0c5cd4479a7a438038bbbde2e"
  },
  "kernelspec": {
   "display_name": "Python 3.9.7 ('base')",
   "language": "python",
   "name": "python3"
  },
  "language_info": {
   "codemirror_mode": {
    "name": "ipython",
    "version": 3
   },
   "file_extension": ".py",
   "mimetype": "text/x-python",
   "name": "python",
   "nbconvert_exporter": "python",
   "pygments_lexer": "ipython3",
   "version": "3.10.13"
  },
  "orig_nbformat": 4
 },
 "nbformat": 4,
 "nbformat_minor": 2
}

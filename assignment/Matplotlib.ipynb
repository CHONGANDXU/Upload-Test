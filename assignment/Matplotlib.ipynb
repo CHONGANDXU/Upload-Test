{
 "cells": [
  {
   "cell_type": "markdown",
   "metadata": {},
   "source": [
    "# 数据可视化\n",
    "\n",
    "## 绘制鸢尾花数据集的特征分布图，四个图表绘制在一个 figure 中，要求图表类型和下图一致，图表修饰部分自定义。\n"
   ]
  },
  {
   "cell_type": "code",
   "execution_count": null,
   "metadata": {},
   "outputs": [],
   "source": [
    "import matplotlib.pyplot as plt\n",
    "from matplotlib.markers import MarkerStyle\n",
    "import pandas as pd\n",
    "import numpy as np\n",
    "\n",
    "plt.rcParams[\"font.sans-serif\"] = [\"Heiti TC\"]\n",
    "\n",
    "df = pd.read_csv(\"./python_data/iris.csv\", nrows=50)\n",
    "\n",
    "df_sorted = df.sort_values(by=\"petal_length\").iloc[:, 2]\n",
    "df_sorted.head()"
   ]
  },
  {
   "cell_type": "code",
   "execution_count": null,
   "metadata": {},
   "outputs": [],
   "source": [
    "figure1 = plt.figure(figsize=(20, 16), dpi=200)\n",
    "figure1.add_subplot(2, 2, 1)\n",
    "x1 = df.iloc[:, 2]\n",
    "y1 = df.iloc[:, 0]\n",
    "plt.xlabel(\"Len of Petal\")\n",
    "plt.ylabel(\"Len of Sepal\")\n",
    "mark = MarkerStyle(\"o\")\n",
    "plt.scatter(x1, y1, marker=mark, c=\"r\")\n",
    "plt.title(\"花瓣/花萼长度散点图\")\n",
    "\n",
    "figure1.add_subplot(2, 2, 2)\n",
    "m1 = np.array(df.iloc[:, 2])\n",
    "fre_tuple = plt.hist(m1, bins=10, histtype=\"step\", edgecolor=\"steelblue\", color=\"white\")\n",
    "plt.xlabel(\"Len of Petal\")\n",
    "plt.ylabel(\"Count\")\n",
    "plt.title(\"花瓣长度直方图\")\n",
    "x_loc = fre_tuple[0]\n",
    "y_loc = fre_tuple[1]\n",
    "# print(x_loc,'\\n',y_loc)\n",
    "for x, y in zip(x_loc, y_loc):\n",
    "    plt.text(y + 0.045, x + 0.1, \"%.0f\" % x, ha=\"center\", va=\"bottom\", fontsize=15)\n",
    "\n",
    "\n",
    "figure1.add_subplot(2, 2, 3)\n",
    "x2 = np.asarray(range(0, 50))\n",
    "y2 = np.asarray(df.iloc[:, 0])\n",
    "x2_xticks = np.arange(0, len(x2), 5)\n",
    "plt.xticks(x2_xticks)\n",
    "plt.bar(x2, y2, facecolor=\"orange\", edgecolor=\"white\")\n",
    "plt.xlabel(\"index\")\n",
    "plt.ylabel(\"Len of Sepal\")\n",
    "plt.title(\"花萼长度条形图\")\n",
    "\n",
    "\n",
    "figure1.add_subplot(2, 2, 4)\n",
    "plt.axis(\"equal\")\n",
    "exploded = [0, 0, 0, 0, 0.05, 0.05, 0, 0, 0, 0]\n",
    "plt.pie(\n",
    "    x=x_loc / 50,\n",
    "    labels=[\"A\", \"B\", \"C\", \"D\", \"E\", \"F\", \"G\", \"H\", \"I\", \"J\"],\n",
    "    explode=exploded,\n",
    "    autopct=\"%.2f%%\",  # 设置百分比的格式，保留两位小数\n",
    "    pctdistance=0.8,  # 设置百分比标签与圆心的距离\n",
    "    labeldistance=1.1,  # 设置标签与圆心的距离\n",
    "    startangle=180,  # 设置饼图的初始角度\n",
    "    radius=1.2,  # 设置饼图的半径\n",
    "    counterclock=False,  # 是否逆时针，False为顺时针方向\n",
    "    wedgeprops={\"linewidth\": 0.8, \"edgecolor\": \"white\"},  # 设置饼图内外边界的属性值\n",
    "    textprops={\"fontsize\": 20, \"color\": \"black\"},  # 设置文本标签的属性值\n",
    ")\n",
    "plt.title(\"花瓣长度饼图\", fontsize=20)"
   ]
  }
 ],
 "metadata": {
  "interpreter": {
   "hash": "1ce14f0bdd70de91fe511fb0bb7b67121e38e7a27a437160265ef744cc211c9b"
  },
  "kernelspec": {
   "display_name": "Python 3 (ipykernel)",
   "language": "python",
   "name": "python3"
  },
  "language_info": {
   "codemirror_mode": {
    "name": "ipython",
    "version": 3
   },
   "file_extension": ".py",
   "mimetype": "text/x-python",
   "name": "python",
   "nbconvert_exporter": "python",
   "pygments_lexer": "ipython3",
   "version": "3.10.13"
  }
 },
 "nbformat": 4,
 "nbformat_minor": 2
}

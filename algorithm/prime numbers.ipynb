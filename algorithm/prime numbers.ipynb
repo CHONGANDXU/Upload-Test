{
 "cells": [
  {
   "cell_type": "markdown",
   "id": "373abb4c",
   "metadata": {},
   "source": [
    "# 求小于某个数的所有素数\n",
    "要求：在terminal中输入一个数，求小于等于这个数的 ***所有素数*** 集合，并按照每行8个进行输出"
   ]
  },
  {
   "cell_type": "code",
   "execution_count": 6,
   "id": "c1020570",
   "metadata": {},
   "outputs": [
    {
     "name": "stdout",
     "output_type": "stream",
     "text": [
      "The prime numbers smaller than 1000 include:\n",
      "2 3 5 7 11 13 17 19\n",
      "23 29 31 37 41 43 47 53\n",
      "59 61 67 71 73 79 83 89\n",
      "97 101 103 107 109 113 127 131\n",
      "137 139 149 151 157 163 167 173\n",
      "179 181 191 193 197 199 211 223\n",
      "227 229 233 239 241 251 257 263\n",
      "269 271 277 281 283 293 307 311\n",
      "313 317 331 337 347 349 353 359\n",
      "367 373 379 383 389 397 401 409\n",
      "419 421 431 433 439 443 449 457\n",
      "461 463 467 479 487 491 499 503\n",
      "509 521 523 541 547 557 563 569\n",
      "571 577 587 593 599 601 607 613\n",
      "617 619 631 641 643 647 653 659\n",
      "661 673 677 683 691 701 709 719\n",
      "727 733 739 743 751 757 761 769\n",
      "773 787 797 809 811 821 823 827\n",
      "829 839 853 857 859 863 877 881\n",
      "883 887 907 911 919 929 937 941\n",
      "947 953 967 971 977 983 991 997\n"
     ]
    }
   ],
   "source": [
    "def is_prime(x):\n",
    "    if x < 2:\n",
    "        return False\n",
    "    if x == 2:\n",
    "        return True\n",
    "    if x % 2 == 0:\n",
    "        return False\n",
    "    for y in range(3, int(x**0.5) + 1, 2):\n",
    "        if x % y == 0:\n",
    "            return False\n",
    "    return True\n",
    "\n",
    "\n",
    "m = int(input(\"Please enter a positive integer:\"))\n",
    "print(\"The prime numbers smaller than\", m, \"include:\", end=\"\\n\")\n",
    "\n",
    "i = 0\n",
    "for x in range(2, m):\n",
    "    if is_prime(x):\n",
    "        if i % 8 != 7:\n",
    "            print(x, end=\" \")\n",
    "        else:\n",
    "            print(x, end=\"\\n\")\n",
    "        i = i + 1"
   ]
  }
 ],
 "metadata": {
  "kernelspec": {
   "display_name": "Python 3.9.7 ('base')",
   "language": "python",
   "name": "python3"
  },
  "language_info": {
   "codemirror_mode": {
    "name": "ipython",
    "version": 3
   },
   "file_extension": ".py",
   "mimetype": "text/x-python",
   "name": "python",
   "nbconvert_exporter": "python",
   "pygments_lexer": "ipython3",
   "version": "3.10.13"
  },
  "vscode": {
   "interpreter": {
    "hash": "406f26811bead5fcdd0bab426e57323b5d8401a0c5cd4479a7a438038bbbde2e"
   }
  }
 },
 "nbformat": 4,
 "nbformat_minor": 5
}

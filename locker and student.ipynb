{
 "cells": [
  {
   "cell_type": "markdown",
   "metadata": {},
   "source": [
    "# Game: locker puzzle \n",
    "\n",
    "> A school has 100 lockers and 100 students. \n",
    "***\n",
    ">> All lockers are closed on the first day of school. \n",
    "***\n",
    ">>> As the students enter, the first student, denoted S1, opens every locker.\n",
    ">>>\n",
    ">>> Then the second student, S2, begins with the second locker, denoted L2, and closes every other locker. \n",
    ">>>\n",
    ">>> Student S3 begins with the third locker and changes every third locker (closes it if it was open, and opens it if it was closed). \n",
    ">>>\n",
    ">>> Student S4 begins with locker L4 and changes every fourth locker. \n",
    ">>>\n",
    ">>> Student S5 starts with L5 and changes every fifth locker, and so on, until student S100 changes L100.\n",
    "***\n",
    ">> After all the students have passed through the building and changed the lockers, which lockers are open? Write a program to find your answer.\n",
    "***\n",
    "> ***(Hint: Use a list of 100 Boolean elements, each of which indicates whether a locker is open(True) or closed (False). Initially, all lockers are closed.)***\n",
    "\n"
   ]
  },
  {
   "cell_type": "code",
   "execution_count": 1,
   "metadata": {},
   "outputs": [
    {
     "name": "stdout",
     "output_type": "stream",
     "text": [
      "L 1 is open\n",
      "L 3 is open\n",
      "L 4 is open\n",
      "L 5 is open\n",
      "L 7 is open\n",
      "L 11 is open\n",
      "L 13 is open\n",
      "L 15 is open\n",
      "L 16 is open\n",
      "L 17 is open\n",
      "L 19 is open\n",
      "L 21 is open\n",
      "L 23 is open\n",
      "L 27 is open\n",
      "L 29 is open\n",
      "L 31 is open\n",
      "L 33 is open\n",
      "L 35 is open\n",
      "L 36 is open\n",
      "L 37 is open\n",
      "L 39 is open\n",
      "L 41 is open\n",
      "L 43 is open\n",
      "L 45 is open\n",
      "L 47 is open\n",
      "L 51 is open\n",
      "L 53 is open\n",
      "L 55 is open\n",
      "L 57 is open\n",
      "L 59 is open\n",
      "L 61 is open\n",
      "L 63 is open\n",
      "L 64 is open\n",
      "L 65 is open\n",
      "L 67 is open\n",
      "L 69 is open\n",
      "L 71 is open\n",
      "L 73 is open\n",
      "L 75 is open\n",
      "L 77 is open\n",
      "L 79 is open\n",
      "L 83 is open\n",
      "L 85 is open\n",
      "L 87 is open\n",
      "L 89 is open\n",
      "L 91 is open\n",
      "L 93 is open\n",
      "L 95 is open\n",
      "L 97 is open\n",
      "L 99 is open\n",
      "L 100 is open\n"
     ]
    }
   ],
   "source": [
    "S=0\n",
    "locker=[False]*100\n",
    "\n",
    "S=1\n",
    "locker=[True]*100\n",
    "\n",
    "S=2\n",
    "for i in range(1,100):\n",
    "    locker[i]=False\n",
    "\n",
    "for S in range(3,101):\n",
    "    n=1\n",
    "    while(S*n<=100):\n",
    "        if(locker[S*n-1]==True):\n",
    "            locker[S*n-1]=False\n",
    "        else:\n",
    "            locker[S*n-1]=True\n",
    "        n=n+1\n",
    "    \n",
    "\n",
    "for i in range(0,100):\n",
    "    if(locker[i]==True):\n",
    "        print('L',i+1,'is open')"
   ]
  }
 ],
 "metadata": {
  "interpreter": {
   "hash": "9635710dbda5c3414eafe0013d083834df6638d2dbd07e1833bc3749408b0f33"
  },
  "kernelspec": {
   "display_name": "Python 3.8.11 64-bit ('tensorflow': conda)",
   "language": "python",
   "name": "python3"
  },
  "language_info": {
   "codemirror_mode": {
    "name": "ipython",
    "version": 3
   },
   "file_extension": ".py",
   "mimetype": "text/x-python",
   "name": "python",
   "nbconvert_exporter": "python",
   "pygments_lexer": "ipython3",
   "version": "3.8.12"
  },
  "orig_nbformat": 4
 },
 "nbformat": 4,
 "nbformat_minor": 2
}

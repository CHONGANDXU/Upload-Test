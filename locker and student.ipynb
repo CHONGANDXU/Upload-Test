{
 "cells": [
  {
   "cell_type": "markdown",
   "metadata": {},
   "source": [
    "# Game: locker puzzle\n",
    "\n",
    "> A school has 100 lockers and 100 students.\n",
    "\n",
    "---\n",
    "\n",
    "> > All lockers are closed on the first day of school.\n",
    "\n",
    "---\n",
    "\n",
    "> > > As the students enter, the first student, denoted S1, opens every locker.\n",
    "> > >\n",
    "> > > Then the second student, S2, begins with the second locker, denoted L2, and closes every other locker.\n",
    "> > >\n",
    "> > > Student S3 begins with the third locker and changes every third locker (closes it if it was open, and opens it if it was closed).\n",
    "> > >\n",
    "> > > Student S4 begins with locker L4 and changes every fourth locker.\n",
    "> > >\n",
    "> > > Student S5 starts with L5 and changes every fifth locker, and so on, until student S100 changes L100.\n",
    "\n",
    "---\n",
    "\n",
    "> > After all the students have passed through the building and changed the lockers, which lockers are open? Write a program to find your answer.\n",
    "\n",
    "---\n",
    "\n",
    "> **_(Hint: Use a list of 100 Boolean elements, each of which indicates whether a locker is open(True) or closed (False). Initially, all lockers are closed.)_**\n"
   ]
  },
  {
   "cell_type": "code",
   "execution_count": null,
   "metadata": {},
   "outputs": [],
   "source": [
    "S = 0\n",
    "locker = [False] * 100\n",
    "\n",
    "S = 1\n",
    "locker = [True] * 100\n",
    "\n",
    "S = 2\n",
    "for i in range(1, 100):\n",
    "    locker[i] = False\n",
    "\n",
    "for S in range(3, 101):\n",
    "    n = 1\n",
    "    while S * n <= 100:\n",
    "        if locker[S * n - 1] == True:\n",
    "            locker[S * n - 1] = False\n",
    "        else:\n",
    "            locker[S * n - 1] = True\n",
    "        n = n + 1\n",
    "\n",
    "\n",
    "for i in range(0, 100):\n",
    "    if locker[i] == True:\n",
    "        print(\"L\", i + 1, \"is open\")"
   ]
  }
 ],
 "metadata": {
  "interpreter": {
   "hash": "9635710dbda5c3414eafe0013d083834df6638d2dbd07e1833bc3749408b0f33"
  },
  "kernelspec": {
   "display_name": "Python 3.8.11 64-bit ('tensorflow': conda)",
   "language": "python",
   "name": "python3"
  },
  "language_info": {
   "codemirror_mode": {
    "name": "ipython",
    "version": 3
   },
   "file_extension": ".py",
   "mimetype": "text/x-python",
   "name": "python",
   "nbconvert_exporter": "python",
   "pygments_lexer": "ipython3",
   "version": "3.10.13"
  },
  "orig_nbformat": 4
 },
 "nbformat": 4,
 "nbformat_minor": 2
}

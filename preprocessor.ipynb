{
 "cells": [
  {
   "cell_type": "markdown",
   "metadata": {},
   "source": [
    "## 实验一：对 Breast Cancer 数据集进行数据探索与数据预处理操作\n",
    "\n",
    "从以下网址下载数据集\n",
    "http://archive.ics.uci.edu/ml/datasets/Breast+Cancer+Coimbra\n"
   ]
  },
  {
   "cell_type": "markdown",
   "metadata": {},
   "source": [
    "### 一、了解数据\n"
   ]
  },
  {
   "cell_type": "markdown",
   "metadata": {},
   "source": [
    "1.打开下载的数据集文件，查看数据的前 5 行\n"
   ]
  },
  {
   "cell_type": "code",
   "execution_count": null,
   "metadata": {},
   "outputs": [],
   "source": [
    "import numpy as np\n",
    "import pandas as pd\n",
    "\n",
    "df = pd.read_csv(\"./python_data/dataR2.csv\")\n",
    "df.head()"
   ]
  },
  {
   "cell_type": "markdown",
   "metadata": {},
   "source": [
    "2.显示数据的列名、索引情况\n"
   ]
  },
  {
   "cell_type": "code",
   "execution_count": null,
   "metadata": {},
   "outputs": [],
   "source": [
    "print(df.index, \"\\n\")\n",
    "print(df.columns)"
   ]
  },
  {
   "cell_type": "markdown",
   "metadata": {},
   "source": [
    "3.显示数据的形状、基本信息、类型\n"
   ]
  },
  {
   "cell_type": "code",
   "execution_count": null,
   "metadata": {},
   "outputs": [],
   "source": [
    "df.shape"
   ]
  },
  {
   "cell_type": "code",
   "execution_count": null,
   "metadata": {},
   "outputs": [],
   "source": [
    "df.info()"
   ]
  },
  {
   "cell_type": "markdown",
   "metadata": {},
   "source": [
    "4.调用 describe()函数进一步查看数据特征整体情况\n"
   ]
  },
  {
   "cell_type": "code",
   "execution_count": null,
   "metadata": {},
   "outputs": [],
   "source": [
    "df.describe()"
   ]
  },
  {
   "cell_type": "markdown",
   "metadata": {},
   "source": [
    "6.对数据集的含义及情况做大致描述（采用文字）\n"
   ]
  },
  {
   "cell_type": "markdown",
   "metadata": {},
   "source": [
    "数据集的维度为 116 \\* 10 的矩阵，共有 10 个属性（列）和 116 组数据（行），有 10 个预测变量，都是定量的和一个二元因变量\n"
   ]
  },
  {
   "cell_type": "markdown",
   "metadata": {},
   "source": [
    "7.患病数据和健康数据分别是多少\n"
   ]
  },
  {
   "cell_type": "code",
   "execution_count": null,
   "metadata": {},
   "outputs": [],
   "source": [
    "print(\"患病数据有：\", \"\\n\", df[df.iloc[:, 9] == 2].iloc[:, 9].count())\n",
    "print()\n",
    "print(\"健康数据有：\", \"\\n\", df[df.iloc[:, 9] == 1].iloc[:, 9].count())"
   ]
  },
  {
   "cell_type": "markdown",
   "metadata": {},
   "source": [
    "8.年龄在 25-50 之间的数据\n"
   ]
  },
  {
   "cell_type": "code",
   "execution_count": null,
   "metadata": {},
   "outputs": [],
   "source": [
    "df[(df.iloc[:, 0] >= 25) & (df.iloc[:, 0] <= 50)]"
   ]
  },
  {
   "cell_type": "markdown",
   "metadata": {},
   "source": [
    "9.显示特征是 Age、BMI、MCP.1 的第 4-10 数据\n"
   ]
  },
  {
   "cell_type": "code",
   "execution_count": null,
   "metadata": {},
   "outputs": [],
   "source": [
    "df.loc[3:9, [\"Age\", \"BMI\", \"MCP.1\"]]"
   ]
  },
  {
   "cell_type": "markdown",
   "metadata": {},
   "source": [
    "### 二、数据预处理\n"
   ]
  },
  {
   "cell_type": "markdown",
   "metadata": {},
   "source": [
    "#### 1.缺失值处理\n",
    "\n",
    "检查数据的缺失值情况，若有缺失值，统计各特征缺失值多少情况，并做出合理处理，如值替换等\n"
   ]
  },
  {
   "cell_type": "code",
   "execution_count": null,
   "metadata": {},
   "outputs": [],
   "source": [
    "df.isnull().sum()"
   ]
  },
  {
   "cell_type": "markdown",
   "metadata": {},
   "source": [
    "#### 2.重复值检测，如有重复值，做删除处理\n"
   ]
  },
  {
   "cell_type": "code",
   "execution_count": null,
   "metadata": {},
   "outputs": [],
   "source": [
    "df.drop_duplicates(keep=False)"
   ]
  },
  {
   "cell_type": "markdown",
   "metadata": {},
   "source": [
    "#### 3.利用箱型图对 Glucose 做异常值检测,说明有无异常值，如有异常值，异常值个数是多少，分别是？\n"
   ]
  },
  {
   "cell_type": "code",
   "execution_count": null,
   "metadata": {},
   "outputs": [],
   "source": [
    "import matplotlib.pyplot as plt\n",
    "\n",
    "plt.figure(figsize=(8, 5), dpi=200)\n",
    "df.loc[:, \"Glucose\"].plot.box()\n",
    "plt.show()\n",
    "\n",
    "df_Glucose = df.loc[:, \"Glucose\"]\n",
    "df_Glucose.head()\n",
    "\n",
    "IQR = df_Glucose.quantile(0.75) - df_Glucose.quantile(0.25)\n",
    "val_low = df_Glucose.quantile(0.25) - 1.5 * IQR\n",
    "val_up = df_Glucose.quantile(0.75) + 1.5 * IQR\n",
    "print(\"IQR:{}\".format(IQR))\n",
    "print(\"Q_LOW:{}\".format(val_low))\n",
    "print(\"Q_UP:{}\".format(val_up))\n",
    "\n",
    "print()\n",
    "\n",
    "print(\n",
    "    \"异常值共有:{}\".format(\n",
    "        df_Glucose[df_Glucose <= val_low].count()\n",
    "        + df_Glucose[df_Glucose >= val_up].count()\n",
    "    )\n",
    ")\n",
    "print()\n",
    "print(df_Glucose[df_Glucose <= val_low])\n",
    "print()\n",
    "print(df_Glucose[df_Glucose >= val_up])"
   ]
  },
  {
   "cell_type": "markdown",
   "metadata": {},
   "source": [
    "#### 4.对检测的异常值进行过滤\n"
   ]
  },
  {
   "cell_type": "code",
   "execution_count": null,
   "metadata": {},
   "outputs": [],
   "source": [
    "df_change = df_Glucose[(df_Glucose >= val_low) & (df_Glucose <= val_up)]\n",
    "df_change.describe()"
   ]
  },
  {
   "cell_type": "markdown",
   "metadata": {},
   "source": [
    "#### 5.对 MCP.1 进行最小-最大规范化\n"
   ]
  },
  {
   "cell_type": "code",
   "execution_count": null,
   "metadata": {},
   "outputs": [],
   "source": [
    "# （1）自编最小-最大规范化函数。\n",
    "df_MCP = df.loc[:, \"MCP.1\"]\n",
    "df_MCP.describe()\n",
    "min = df_MCP.describe().iloc[3]\n",
    "max = df_MCP.describe().iloc[7]\n",
    "# print(\"min = \",min,\" max = \",max)\n",
    "n = 0\n",
    "for i in df_MCP:\n",
    "    df.loc[n, \"MCP.1\"] = (i - min) / (max - min)\n",
    "    n += 1\n",
    "print(df_MCP)"
   ]
  },
  {
   "cell_type": "markdown",
   "metadata": {},
   "source": [
    "#### 6.相关性，所有特征之间的相关性情况\n"
   ]
  },
  {
   "cell_type": "code",
   "execution_count": null,
   "metadata": {},
   "outputs": [],
   "source": [
    "# 欧式距离（Eulidean distance）\n",
    "def euclidean(x, y):\n",
    "    return np.sqrt(np.sum((x - y) ** 2))\n",
    "\n",
    "\n",
    "# 曼哈顿距离(Manhattan distance)\n",
    "def manhattan(x, y):\n",
    "    return np.sum(np.abs(x - y))\n",
    "\n",
    "\n",
    "# 切比雪夫距离(Chebyshev distance)\n",
    "def chebyshev(x, y):\n",
    "    return np.max(np.abs(x - y))\n",
    "\n",
    "\n",
    "# 闵可夫斯基距离(Minkowski distance)\n",
    "def minkowski(x, y, p):\n",
    "    return np.sum(np.abs(x - y) ** p) ** (1 / p)\n",
    "\n",
    "\n",
    "# 汉明距离(Hamming distance)\n",
    "def hamming(x, y):\n",
    "    return np.sum(x != y) / len(x)\n",
    "\n",
    "\n",
    "# 余弦距离\n",
    "def cos_similarity(x, y):\n",
    "    return np.dot(x, y) / (np.linalg.norm(x) * np.linalg.norm(y))\n",
    "\n",
    "\n",
    "from scipy.spatial.distance import pdist\n",
    "\n",
    "x = df.iloc[:, 0]\n",
    "y = df.iloc[:, 1]\n",
    "X = np.vstack(\n",
    "    [x, y]\n",
    ")  # 按垂直方向（行顺序）堆叠数组构成一个新的数组，堆叠的数组需要具有相同的维度\n",
    "\n",
    "print(\"Age与BMI的距离为：\")\n",
    "d1 = pdist(X, \"euclidean\")\n",
    "print(\"欧式距离：\", d1)\n",
    "\n",
    "d2 = pdist(X, \"cityblock\")\n",
    "print(\"曼哈顿距离：\", d2)\n",
    "\n",
    "d3 = pdist(X, \"chebyshev\")\n",
    "print(\"切比雪夫距离：\", d3)\n",
    "\n",
    "d4 = pdist(X, \"minkowski\", p=2)\n",
    "print(\"闵可夫斯基距离：\", d4)\n",
    "\n",
    "d5 = pdist(X, \"cosine\")\n",
    "print(\"余弦相似性：\", 1 - d5)"
   ]
  },
  {
   "cell_type": "code",
   "execution_count": null,
   "metadata": {},
   "outputs": [],
   "source": [
    "# 通过热力图可视化数据相关性\n",
    "from string import ascii_letters\n",
    "import seaborn as sns\n",
    "\n",
    "sns.heatmap(df.corr())"
   ]
  },
  {
   "cell_type": "markdown",
   "metadata": {},
   "source": [
    "#### 7.离散化。\n",
    "\n",
    "等距离散化\n",
    "使用 Pandas 中的 cut 方法，对 BMI 实现等距离散化分组，根据中国标准 BMI 值: 正常:18.5-23.9、超重:≥24、偏胖:24 ～ 27.9、肥胖:≥28 划分\n"
   ]
  },
  {
   "cell_type": "code",
   "execution_count": null,
   "metadata": {},
   "outputs": [],
   "source": [
    "BMI_groups1 = pd.cut(\n",
    "    df[\"BMI\"], bins=[0, 18.5, 23.9, 27.9, 100], labels=[\"偏瘦\", \"正常\", \"偏胖\", \"肥胖\"]\n",
    ")\n",
    "# print(BMI_groups1)\n",
    "print(df[\"Classification\"].groupby(BMI_groups1).count())"
   ]
  },
  {
   "cell_type": "markdown",
   "metadata": {},
   "source": [
    "#### 8.等频离散化，每箱的数据个数约为总数的四分之一\n"
   ]
  },
  {
   "cell_type": "code",
   "execution_count": null,
   "metadata": {},
   "outputs": [],
   "source": [
    "BMI_groups2 = pd.qcut(df[\"BMI\"], 4)\n",
    "BMI_groups2"
   ]
  },
  {
   "cell_type": "markdown",
   "metadata": {},
   "source": [
    "### 三.数据可视化\n",
    "\n",
    "1. 绘制年龄分布直方图，bins=4。\n",
    "2. bar 的宽度为 0.8,直方为蓝色。\n",
    "3. 观察绘制的直方图，简要说明年龄分布情况。\n"
   ]
  },
  {
   "cell_type": "code",
   "execution_count": null,
   "metadata": {},
   "outputs": [],
   "source": [
    "plt.rcParams[\"font.sans-serif\"] = [\"HeiTi TC\"]\n",
    "\n",
    "df_Age = df.loc[:, \"Age\"]\n",
    "m1 = np.array(df_Age)\n",
    "fre_tuple1 = plt.hist(m1, bins=4, rwidth=0.8, edgecolor=\"steelblue\", color=\"blue\")\n",
    "plt.xlabel(\"Age\")\n",
    "plt.ylabel(\"Count\")\n",
    "plt.title(\"Age直方图\")\n",
    "x_loc = fre_tuple1[0]\n",
    "y_loc = fre_tuple1[1]\n",
    "# print(x_loc,'\\n',y_loc)\n",
    "for x, y in zip(x_loc, y_loc):\n",
    "    plt.text(y + 8, x + 0.1, \"%.0f\" % x, ha=\"center\", va=\"bottom\", fontsize=13)"
   ]
  },
  {
   "cell_type": "markdown",
   "metadata": {},
   "source": [
    "2.绘制 BMI 分布直方图，bins=[18,24,27,40],直方为绿色\n"
   ]
  },
  {
   "cell_type": "code",
   "execution_count": null,
   "metadata": {},
   "outputs": [],
   "source": [
    "df_BMI = df.loc[:, \"BMI\"]\n",
    "m2 = np.array(df_BMI)\n",
    "fre_tuple2 = plt.hist(m2, bins=[18, 24, 27, 40], edgecolor=\"steelblue\", color=\"green\")\n",
    "plt.xlabel(\"BMI\")\n",
    "plt.ylabel(\"Count\")\n",
    "plt.title(\"BMI直方图\")\n",
    "x_loc = fre_tuple2[0]\n",
    "y_loc = fre_tuple2[1]\n",
    "# print(x_loc,'\\n',y_loc)\n",
    "for x, y in zip(x_loc, y_loc):\n",
    "    plt.text(y + 2, x + 0.1, \"%.0f\" % x, ha=\"center\", va=\"bottom\", fontsize=13)"
   ]
  },
  {
   "cell_type": "markdown",
   "metadata": {},
   "source": [
    "3.调用 sns.countplot()函数，探索患病情况与年龄的关系。\n"
   ]
  },
  {
   "cell_type": "code",
   "execution_count": null,
   "metadata": {},
   "outputs": [],
   "source": [
    "df[\"age_range\"] = pd.cut(\n",
    "    df[\"Age\"], bins=[0, 18, 40, 66, 200], labels=[\"儿童\", \"青年\", \"中年\", \"老年\"]\n",
    ")\n",
    "print(df.groupby([\"Classification\", \"age_range\"]).count())\n",
    "ax = sns.countplot(x=df[\"age_range\"], hue=df[\"Classification\"])\n",
    "ax.set_xlabel(\"年龄段\")\n",
    "ax.set_ylabel(\"数量\")"
   ]
  },
  {
   "cell_type": "markdown",
   "metadata": {},
   "source": [
    "### 四、数据降维\n"
   ]
  },
  {
   "cell_type": "code",
   "execution_count": null,
   "metadata": {},
   "outputs": [],
   "source": [
    "import numpy as np\n",
    "from sklearn.decomposition import PCA\n",
    "\n",
    "X = np.array(df.iloc[:, 0:9], type(float))\n",
    "\n",
    "pca = PCA(n_components=0.9, svd_solver=\"full\")\n",
    "# 如果n_components设为大于0小于1的小数且svd_solver设为’full’，则自动根据样本特征方差来决定降维到的维度数，这里n_components表示主成分的方差和所占的最小比例阈值。\n",
    "\n",
    "newX = pca.fit_transform(X)\n",
    "\n",
    "# print(X,'\\n')\n",
    "\n",
    "print(newX, \"\\n\")\n",
    "\n",
    "print(pca.explained_variance_ratio_)"
   ]
  },
  {
   "cell_type": "code",
   "execution_count": null,
   "metadata": {},
   "outputs": [],
   "source": [
    "import random\n",
    "\n",
    "fig = plt.figure(figsize=(18, 12))\n",
    "ax = fig.add_subplot(111, projection=\"3d\")\n",
    "color = [\n",
    "    \"yellow\",\n",
    "    \"black\",\n",
    "    \"aqua\",\n",
    "    \"green\",\n",
    "    \"teal\",\n",
    "    \"orange\",\n",
    "    \"navy\",\n",
    "    \"pink\",\n",
    "    \"purple\",\n",
    "    \"red\",\n",
    "]\n",
    "for x in range(0, 115):\n",
    "    ax.scatter(newX[x, 0], newX[x, 1], newX[x, 2], color=color[random.randint(0, 9)])"
   ]
  }
 ],
 "metadata": {
  "kernelspec": {
   "display_name": "Python 3.9.7 ('base')",
   "language": "python",
   "name": "python3"
  },
  "language_info": {
   "codemirror_mode": {
    "name": "ipython",
    "version": 3
   },
   "file_extension": ".py",
   "mimetype": "text/x-python",
   "name": "python",
   "nbconvert_exporter": "python",
   "pygments_lexer": "ipython3",
   "version": "3.10.13"
  },
  "vscode": {
   "interpreter": {
    "hash": "406f26811bead5fcdd0bab426e57323b5d8401a0c5cd4479a7a438038bbbde2e"
   }
  }
 },
 "nbformat": 4,
 "nbformat_minor": 4
}

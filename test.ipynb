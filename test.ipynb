{
 "cells": [
  {
   "cell_type": "code",
   "execution_count": null,
   "metadata": {},
   "outputs": [],
   "source": [
    "import matplotlib.pyplot as plt\n",
    "import math\n",
    "import numpy as np\n",
    "\n",
    "plt.figure(figsize=(12, 8), dpi=300)\n",
    "\n",
    "x = np.arange(-2, 1.5, 0.01)\n",
    "y1 = []\n",
    "y2 = []\n",
    "for t in x:\n",
    "    a = t * math.exp(t)\n",
    "    y1.append(a)\n",
    "\n",
    "for t in x:\n",
    "    a = t * math.exp(1)\n",
    "    y2.append(a)\n",
    "\n",
    "plt.axvline(0)\n",
    "plt.axhline(0)\n",
    "plt.plot(x, y1, color=\"purple\")\n",
    "plt.plot(x, y2, color=\"red\")"
   ]
  },
  {
   "cell_type": "code",
   "execution_count": null,
   "metadata": {},
   "outputs": [],
   "source": [
    "import whisper\n",
    "\n",
    "model = whisper.load_model(\"large-v3\")\n",
    "\n",
    "result = model.transcribe(\"\")\n",
    "\n",
    "print(result[\"text\"])"
   ]
  },
  {
   "cell_type": "code",
   "execution_count": null,
   "metadata": {},
   "outputs": [],
   "source": [
    "import numpy as np\n",
    "import pandas as pd\n",
    "import math\n",
    "\n",
    "# 要处理的数据\n",
    "x = np.array([60, 65, 63, 66, 67, 69, 71, 72, 74, 76, 77, 82, 84, 87, 90])\n",
    "# 对数据排序\n",
    "x.sort()\n",
    "# 定义等区间\n",
    "bins = [60, 70, 80, 90, 100]\n",
    "# 对数据按区间分段，right=False代表区间左闭右开\n",
    "x_cuts = pd.cut(x, bins, right=False)\n",
    "# number数组即为每个区间的数据数量\n",
    "number = x_cuts.value_counts().values\n",
    "# 取所有区间中最大的数据数量\n",
    "rows = number.max()\n",
    "\n",
    "number"
   ]
  },
  {
   "cell_type": "code",
   "execution_count": null,
   "metadata": {},
   "outputs": [],
   "source": [
    "# 定义初始化等宽箱\n",
    "widthList = np.full([4, rows], 0)\n",
    "size = x.size\n",
    "# 将要处理的数据x按照等宽分箱法分箱\n",
    "i = 0\n",
    "for a in range(0, 4):\n",
    "    for b in range(0, number[a]):\n",
    "        widthList[a, b] = x[i]\n",
    "        i = i + 1\n",
    "# 划分后的等宽箱，非零值\n",
    "widthList"
   ]
  },
  {
   "cell_type": "code",
   "execution_count": null,
   "metadata": {},
   "outputs": [],
   "source": [
    "print(widthList, \"\\n\")\n",
    "\n",
    "# 按平均值平滑，初始化mean_width\n",
    "mean_width = np.full([4, rows], 0)\n",
    "# 等宽分箱法、均值平滑技术\n",
    "for i in range(0, 4):\n",
    "    for j in range(0, number[i]):\n",
    "        # 第i行算数平均值\n",
    "        mean_width[i][j] = int(widthList[i].sum() / number[i])\n",
    "# 按平均值平滑后的等宽箱\n",
    "print(mean_width)"
   ]
  },
  {
   "cell_type": "code",
   "execution_count": null,
   "metadata": {},
   "outputs": [],
   "source": [
    "print(widthList, \"\\n\")\n",
    "\n",
    "# 定义等深箱每行左边界\n",
    "edgeLeft = np.arange(4)\n",
    "# 定义等深箱每行右边界\n",
    "edgeRight = np.arange(4)\n",
    "# 按边界值平滑，初始化edge_width\n",
    "edge_width = np.full([4, rows], 0)\n",
    "# 等宽分箱法、边界值平滑技术\n",
    "# 遍历等宽箱行\n",
    "for i in range(0, 4):\n",
    "    # 第i行左边界\n",
    "    edgeLeft[i] = widthList[i][0]\n",
    "    # 第i行右边界\n",
    "    edgeRight[i] = widthList[i][number[i] - 1]\n",
    "    # 遍历等宽箱列\n",
    "    for j in range(0, number[i]):\n",
    "        # 第一列，即左边界\n",
    "        if j == 0:\n",
    "            edge_width[i][j] = widthList[i][0]\n",
    "        # 等深箱最后一列，即右边界\n",
    "        if j == (number[i] - 1):\n",
    "            edge_width[i][j] = widthList[i][number[i] - 1]\n",
    "        else:\n",
    "            # 判断距离左边界近还是距离右边界近\n",
    "            if math.pow((edgeLeft[i] - widthList[i][j]), 2) > math.pow(\n",
    "                (edgeRight[i] - widthList[i][j]), 2\n",
    "            ):\n",
    "                print(\n",
    "                    \"row_index \",\n",
    "                    i,\n",
    "                    \" column_index \",\n",
    "                    j,\n",
    "                    \" 原始值\",\n",
    "                    widthList[i][j],\n",
    "                    \" 被修改为右边界\",\n",
    "                    edgeRight[i],\n",
    "                )\n",
    "                edge_width[i][j] = edgeRight[i]\n",
    "            else:\n",
    "                print(\n",
    "                    \"row_index \",\n",
    "                    i,\n",
    "                    \" column_index \",\n",
    "                    j,\n",
    "                    \" 原始值\",\n",
    "                    widthList[i][j],\n",
    "                    \" 被修改为左边界\",\n",
    "                    edgeLeft[i],\n",
    "                )\n",
    "                edge_width[i][j] = edgeLeft[i]\n",
    "\n",
    "print(edge_width)"
   ]
  }
 ],
 "metadata": {
  "kernelspec": {
   "display_name": "Python 3.9.13 ('base')",
   "language": "python",
   "name": "python3"
  },
  "language_info": {
   "codemirror_mode": {
    "name": "ipython",
    "version": 3
   },
   "file_extension": ".py",
   "mimetype": "text/x-python",
   "name": "python",
   "nbconvert_exporter": "python",
   "pygments_lexer": "ipython3",
   "version": "3.10.13"
  },
  "orig_nbformat": 4,
  "vscode": {
   "interpreter": {
    "hash": "406f26811bead5fcdd0bab426e57323b5d8401a0c5cd4479a7a438038bbbde2e"
   }
  }
 },
 "nbformat": 4,
 "nbformat_minor": 2
}

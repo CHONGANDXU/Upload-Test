{
 "cells": [
  {
   "cell_type": "code",
   "execution_count": null,
   "metadata": {},
   "outputs": [],
   "source": [
    "import matplotlib.pyplot as plt\n",
    "import math\n",
    "import numpy as np\n",
    "\n",
    "plt.figure(figsize=(12, 8), dpi=300)\n",
    "\n",
    "x = np.arange(-2, 1.5, 0.01)\n",
    "y1 = []\n",
    "y2 = []\n",
    "for t in x:\n",
    "    a = t * math.exp(t)\n",
    "    y1.append(a)\n",
    "\n",
    "for t in x:\n",
    "    a = t * math.exp(1)\n",
    "    y2.append(a)\n",
    "\n",
    "plt.axvline(0)\n",
    "plt.axhline(0)\n",
    "plt.plot(x, y1, color=\"purple\")\n",
    "plt.plot(x, y2, color=\"red\")"
   ]
  },
  {
   "cell_type": "code",
   "execution_count": null,
   "metadata": {},
   "outputs": [],
   "source": [
    "import whisper\n",
    "\n",
    "model = whisper.load_model(\"large-v3\")\n",
    "\n",
    "model.transcribe(\"audio\")"
   ]
  }
 ],
 "metadata": {
  "kernelspec": {
   "display_name": "Python 3.9.13 ('base')",
   "language": "python",
   "name": "python3"
  },
  "language_info": {
   "codemirror_mode": {
    "name": "ipython",
    "version": 3
   },
   "file_extension": ".py",
   "mimetype": "text/x-python",
   "name": "python",
   "nbconvert_exporter": "python",
   "pygments_lexer": "ipython3",
   "version": "3.10.13"
  },
  "orig_nbformat": 4,
  "vscode": {
   "interpreter": {
    "hash": "406f26811bead5fcdd0bab426e57323b5d8401a0c5cd4479a7a438038bbbde2e"
   }
  }
 },
 "nbformat": 4,
 "nbformat_minor": 2
}

{
 "cells": [
  {
   "attachments": {},
   "cell_type": "markdown",
   "metadata": {},
   "source": [
    "# 校园食堂随机选取吃什么——代码片段\n",
    "\n",
    "> 本程序纯属无聊中的无聊，但是其中也映射出了本作者对本校食堂没什么可吃的控诉，已经到达了无语的程度  \n",
    "> 希望大家给出相应意见，理性批判\n"
   ]
  },
  {
   "cell_type": "code",
   "execution_count": 2,
   "metadata": {},
   "outputs": [
    {
     "data": {
      "text/html": [
       "<div>\n",
       "<style scoped>\n",
       "    .dataframe tbody tr th:only-of-type {\n",
       "        vertical-align: middle;\n",
       "    }\n",
       "\n",
       "    .dataframe tbody tr th {\n",
       "        vertical-align: top;\n",
       "    }\n",
       "\n",
       "    .dataframe thead th {\n",
       "        text-align: right;\n",
       "    }\n",
       "</style>\n",
       "<table border=\"1\" class=\"dataframe\">\n",
       "  <thead>\n",
       "    <tr style=\"text-align: right;\">\n",
       "      <th></th>\n",
       "      <th>canteen</th>\n",
       "      <th>food-name</th>\n",
       "    </tr>\n",
       "  </thead>\n",
       "  <tbody>\n",
       "    <tr>\n",
       "      <th>0</th>\n",
       "      <td>南食堂二楼</td>\n",
       "      <td>民族餐厅-(番茄鸡蛋盖饭)</td>\n",
       "    </tr>\n",
       "    <tr>\n",
       "      <th>1</th>\n",
       "      <td>南食堂二楼</td>\n",
       "      <td>民族餐厅-(土豆鸡块盖饭)</td>\n",
       "    </tr>\n",
       "    <tr>\n",
       "      <th>2</th>\n",
       "      <td>南食堂二楼</td>\n",
       "      <td>民族餐厅-(青菜鸡肉盖饭)</td>\n",
       "    </tr>\n",
       "    <tr>\n",
       "      <th>3</th>\n",
       "      <td>北食堂一楼</td>\n",
       "      <td>云南米线</td>\n",
       "    </tr>\n",
       "    <tr>\n",
       "      <th>4</th>\n",
       "      <td>南食堂二楼</td>\n",
       "      <td>黄焖鸡米饭营养套餐</td>\n",
       "    </tr>\n",
       "  </tbody>\n",
       "</table>\n",
       "</div>"
      ],
      "text/plain": [
       "  canteen      food-name\n",
       "0   南食堂二楼  民族餐厅-(番茄鸡蛋盖饭)\n",
       "1   南食堂二楼  民族餐厅-(土豆鸡块盖饭)\n",
       "2   南食堂二楼  民族餐厅-(青菜鸡肉盖饭)\n",
       "3   北食堂一楼           云南米线\n",
       "4   南食堂二楼      黄焖鸡米饭营养套餐"
      ]
     },
     "execution_count": 2,
     "metadata": {},
     "output_type": "execute_result"
    }
   ],
   "source": [
    "import pandas as pd\n",
    "import numpy as np\n",
    "\n",
    "# 读取上传的CSV文件\n",
    "file_path = \"school-canteen.csv\"\n",
    "canteen_data = pd.read_csv(file_path)\n",
    "\n",
    "# 显示文件内容\n",
    "canteen_data.head()"
   ]
  },
  {
   "cell_type": "code",
   "execution_count": 3,
   "metadata": {},
   "outputs": [
    {
     "data": {
      "text/html": [
       "<div>\n",
       "<style scoped>\n",
       "    .dataframe tbody tr th:only-of-type {\n",
       "        vertical-align: middle;\n",
       "    }\n",
       "\n",
       "    .dataframe tbody tr th {\n",
       "        vertical-align: top;\n",
       "    }\n",
       "\n",
       "    .dataframe thead th {\n",
       "        text-align: right;\n",
       "    }\n",
       "</style>\n",
       "<table border=\"1\" class=\"dataframe\">\n",
       "  <thead>\n",
       "    <tr style=\"text-align: right;\">\n",
       "      <th></th>\n",
       "      <th>午餐</th>\n",
       "      <th>晚餐</th>\n",
       "    </tr>\n",
       "  </thead>\n",
       "  <tbody>\n",
       "    <tr>\n",
       "      <th>星期一</th>\n",
       "      <td>None</td>\n",
       "      <td>None</td>\n",
       "    </tr>\n",
       "    <tr>\n",
       "      <th>星期二</th>\n",
       "      <td>None</td>\n",
       "      <td>None</td>\n",
       "    </tr>\n",
       "    <tr>\n",
       "      <th>星期三</th>\n",
       "      <td>None</td>\n",
       "      <td>None</td>\n",
       "    </tr>\n",
       "    <tr>\n",
       "      <th>星期四</th>\n",
       "      <td>None</td>\n",
       "      <td>None</td>\n",
       "    </tr>\n",
       "    <tr>\n",
       "      <th>星期五</th>\n",
       "      <td>None</td>\n",
       "      <td>None</td>\n",
       "    </tr>\n",
       "    <tr>\n",
       "      <th>星期六</th>\n",
       "      <td>None</td>\n",
       "      <td>None</td>\n",
       "    </tr>\n",
       "    <tr>\n",
       "      <th>星期天</th>\n",
       "      <td>None</td>\n",
       "      <td>None</td>\n",
       "    </tr>\n",
       "  </tbody>\n",
       "</table>\n",
       "</div>"
      ],
      "text/plain": [
       "       午餐    晚餐\n",
       "星期一  None  None\n",
       "星期二  None  None\n",
       "星期三  None  None\n",
       "星期四  None  None\n",
       "星期五  None  None\n",
       "星期六  None  None\n",
       "星期天  None  None"
      ]
     },
     "execution_count": 3,
     "metadata": {},
     "output_type": "execute_result"
    }
   ],
   "source": [
    "import random\n",
    "\n",
    "# 获取食堂和菜肴列表\n",
    "canteens = canteen_data[\"canteen\"].unique().tolist()\n",
    "foods = canteen_data.to_dict(\"records\")\n",
    "\n",
    "# 定义每天的时间段\n",
    "days = [\"星期一\", \"星期二\", \"星期三\", \"星期四\", \"星期五\", \"星期六\", \"星期天\"]\n",
    "meals = [\"午餐\", \"晚餐\"]\n",
    "\n",
    "# 初始化用餐表\n",
    "meal_plan = {day: {meal: None for meal in meals} for day in days}\n",
    "\n",
    "# 将生成的用餐计划转换为 DataFrame\n",
    "meal_plan_df = pd.DataFrame.from_dict(meal_plan, orient=\"index\")\n",
    "\n",
    "meal_plan_df"
   ]
  },
  {
   "cell_type": "code",
   "execution_count": 15,
   "metadata": {},
   "outputs": [
    {
     "name": "stdout",
     "output_type": "stream",
     "text": [
      "canteen\n",
      "南食堂二楼    5.250\n",
      "北食堂一楼    2.625\n",
      "新食堂三楼    2.625\n",
      "新食堂二楼    1.750\n",
      "北食堂二楼    0.875\n",
      "额外食堂     0.875\n",
      "Name: count, dtype: float64\n",
      "canteen\n",
      "南食堂二楼    5\n",
      "北食堂一楼    3\n",
      "新食堂三楼    3\n",
      "新食堂二楼    2\n",
      "北食堂二楼    1\n",
      "额外食堂     1\n",
      "Name: count, dtype: int64\n"
     ]
    }
   ],
   "source": [
    "# 统计每个类别的样本数量\n",
    "class_counts = canteen_data[\"canteen\"].value_counts()\n",
    "\n",
    "# 计算每个类别需要抽取的样本数量（假设均匀分布）\n",
    "total_samples = 14  # 总共需要抽取的样本数量\n",
    "sample_sizes_float = class_counts / class_counts.sum() * total_samples\n",
    "sample_sizes_int = round(sample_sizes_float).astype(int)\n",
    "print(sample_sizes_float, end=\"\\n\")\n",
    "print(sample_sizes_int, end=\"\\n\")"
   ]
  },
  {
   "cell_type": "code",
   "execution_count": 16,
   "metadata": {},
   "outputs": [
    {
     "name": "stdout",
     "output_type": "stream",
     "text": [
      "   canteen      food-name\n",
      "0    南食堂二楼  民族餐厅-(番茄鸡蛋盖饭)\n",
      "5    南食堂二楼           石锅拌饭\n",
      "1    南食堂二楼  民族餐厅-(土豆鸡块盖饭)\n",
      "4    南食堂二楼      黄焖鸡米饭营养套餐\n",
      "9    南食堂二楼            豆花饭\n",
      "7    北食堂一楼            煲仔饭\n",
      "3    北食堂一楼           云南米线\n",
      "6    北食堂一楼          黄焖鸡米饭\n",
      "12   新食堂三楼            烧腊饭\n",
      "10   新食堂三楼          F+牛肉饭\n",
      "11   新食堂三楼          黄焖鸡米饭\n",
      "13   新食堂二楼            猪肚鸡\n",
      "14   新食堂二楼            自选菜\n",
      "8    北食堂二楼            麻辣烫\n",
      "15    额外食堂             外卖\n"
     ]
    }
   ],
   "source": [
    "# 使用层次抽样从每个类别中抽取样本\n",
    "stratified_samples = pd.concat(\n",
    "    [\n",
    "        canteen_data[canteen_data[\"canteen\"] == category].sample(sample_sizes_int[category])\n",
    "        for category in sample_sizes_int.index\n",
    "    ]\n",
    ")\n",
    "\n",
    "# 输出结果\n",
    "print(stratified_samples)"
   ]
  }
 ],
 "metadata": {
  "interpreter": {
   "hash": "9635710dbda5c3414eafe0013d083834df6638d2dbd07e1833bc3749408b0f33"
  },
  "kernelspec": {
   "display_name": "Python 3.8.12 64-bit ('tensorflow': conda)",
   "language": "python",
   "name": "python3"
  },
  "language_info": {
   "codemirror_mode": {
    "name": "ipython",
    "version": 3
   },
   "file_extension": ".py",
   "mimetype": "text/x-python",
   "name": "python",
   "nbconvert_exporter": "python",
   "pygments_lexer": "ipython3",
   "version": "3.10.13"
  },
  "orig_nbformat": 4
 },
 "nbformat": 4,
 "nbformat_minor": 2
}

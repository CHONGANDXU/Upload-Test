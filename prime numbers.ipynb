{
 "cells": [
  {
   "cell_type": "markdown",
   "id": "373abb4c",
   "metadata": {},
   "source": [
    "# 求小于某个数的所有素数\n",
    "要求：在terminal中输入一个数，求小于等于这个数的*所有素数*集合，并按照每行8个进行输出"
   ]
  },
  {
   "cell_type": "code",
   "execution_count": null,
   "id": "c1020570",
   "metadata": {},
   "outputs": [],
   "source": [
    "while True:\n",
    "    m = input(\"Please enter a positive integer:\")\n",
    "    if m.isdigit():\n",
    "        m=int(m)\n",
    "        break\n",
    "    else:\n",
    "        print(\"invalid input!\")\n",
    "        continue\n",
    "n=0\n",
    "print(\"The prime numbers smaller than\" ,m,\"include:\")\n",
    "x=2\n",
    "flag=True\n",
    "while (x<m):\n",
    "    y=2\n",
    "    while (y<x):\n",
    "        if(x%y==0):\n",
    "            flag=False\n",
    "            break\n",
    "        else:flag=True\n",
    "        y+=1\n",
    "    if (flag == True): \n",
    "        print(x,end=' ')\n",
    "        n+=1\n",
    "        if(n%8==0):print()\n",
    "    x+=1"
   ]
  }
 ],
 "metadata": {
  "kernelspec": {
   "display_name": "Python 3.9.7 ('base')",
   "language": "python",
   "name": "python3"
  },
  "language_info": {
   "codemirror_mode": {
    "name": "ipython",
    "version": 3
   },
   "file_extension": ".py",
   "mimetype": "text/x-python",
   "name": "python",
   "nbconvert_exporter": "python",
   "pygments_lexer": "ipython3",
   "version": "3.9.7"
  },
  "vscode": {
   "interpreter": {
    "hash": "406f26811bead5fcdd0bab426e57323b5d8401a0c5cd4479a7a438038bbbde2e"
   }
  }
 },
 "nbformat": 4,
 "nbformat_minor": 5
}

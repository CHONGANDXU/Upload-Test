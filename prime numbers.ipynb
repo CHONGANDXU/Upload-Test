{
 "cells": [
  {
   "cell_type": "markdown",
   "id": "c36e5c7d",
   "metadata": {},
   "source": [
    "**所有素数**\n",
    "***\n",
    "***所有素数***\n",
    "***\n",
    "1. First item\n",
    "2. Second item\n",
    "3. Third item\n",
    "4. Fourth item\n",
    "- First item\n",
    "- Second item\n",
    "- Third item\n",
    "- Fourth item\n",
    "\n",
    "这是一个链接 [Markdown语法](https://markdown.com.cn)。\n",
    "\n",
    "这是一个链接 [Markdown语法](https://markdown.com.cn \"最好的markdown教程\")。"
   ]
  },
  {
   "cell_type": "markdown",
   "id": "373abb4c",
   "metadata": {},
   "source": [
    "# 求小于某个数的所有素数\n",
    "要求：在terminal中输入一个数，求小于等于这个数的*所有素数*集合，并按照每行8个进行输出"
   ]
  },
  {
   "cell_type": "code",
   "execution_count": 1,
   "id": "7877fac9",
   "metadata": {},
   "outputs": [],
   "source": [
    "import math\n",
    "from math import sin\n",
    "from math import cos\n",
    "from math import tan"
   ]
  },
  {
   "cell_type": "code",
   "execution_count": 2,
   "id": "c1020570",
   "metadata": {},
   "outputs": [
    {
     "name": "stdout",
     "output_type": "stream",
     "text": [
      "The prime numbers smaller than 200 include:\n",
      "2 3 5 7 11 13 17 19 \n",
      "23 29 31 37 41 43 47 53 \n",
      "59 61 67 71 73 79 83 89 \n",
      "97 101 103 107 109 113 127 131 \n",
      "137 139 149 151 157 163 167 173 \n",
      "179 181 191 193 197 199 "
     ]
    }
   ],
   "source": [
    "while True:\n",
    "    m = input(\"Please enter a positive integer:\")\n",
    "    if m.isdigit():\n",
    "        m=int(m)\n",
    "        break\n",
    "    else:\n",
    "        print(\"invalid input!\")\n",
    "        continue\n",
    "n=0\n",
    "print(\"The prime numbers smaller than\" ,m,\"include:\")\n",
    "x=2\n",
    "flag=True\n",
    "while (x<m):\n",
    "    y=2\n",
    "    while (y<x):\n",
    "        if(x%y==0):\n",
    "            flag=False\n",
    "            break\n",
    "        else:flag=True\n",
    "        y+=1\n",
    "    if (flag == True): \n",
    "        print(x,end=' ')\n",
    "        n+=1\n",
    "        if(n%8==0):print()\n",
    "    x+=1"
   ]
  }
 ],
 "metadata": {
  "kernelspec": {
   "display_name": "Python 3 (ipykernel)",
   "language": "python",
   "name": "python3"
  },
  "language_info": {
   "codemirror_mode": {
    "name": "ipython",
    "version": 3
   },
   "file_extension": ".py",
   "mimetype": "text/x-python",
   "name": "python",
   "nbconvert_exporter": "python",
   "pygments_lexer": "ipython3",
   "version": "3.9.7"
  }
 },
 "nbformat": 4,
 "nbformat_minor": 5
}

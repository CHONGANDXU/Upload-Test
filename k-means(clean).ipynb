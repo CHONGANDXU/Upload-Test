{
 "cells": [
  {
   "cell_type": "code",
   "execution_count": 9,
   "id": "052f93a9",
   "metadata": {},
   "outputs": [
    {
     "name": "stdout",
     "output_type": "stream",
     "text": [
      "[[4.24264069 2.        ]\n",
      " [3.60555128 1.        ]\n",
      " [5.         2.23606798]\n",
      " [4.47213595 1.41421356]\n",
      " [1.41421356 2.        ]\n",
      " [1.         2.23606798]\n",
      " [2.23606798 1.        ]\n",
      " [2.         1.41421356]]\n",
      "[[3.20156212 1.16666667]\n",
      " [2.5        0.16666667]\n",
      " [3.90512484 1.53659074]\n",
      " [3.35410197 1.01379376]\n",
      " [0.5        2.16666667]\n",
      " [0.5        2.71313677]\n",
      " [1.11803399 1.30170828]\n",
      " [1.11803399 2.08832735]]\n",
      "[[2.91547595 0.70710678]\n",
      " [2.12132034 0.70710678]\n",
      " [3.53553391 0.70710678]\n",
      " [2.91547595 0.70710678]\n",
      " [0.70710678 2.91547595]\n",
      " [0.70710678 3.53553391]\n",
      " [0.70710678 2.12132034]\n",
      " [0.70710678 2.91547595]]\n",
      "[[2.91547595 0.70710678]\n",
      " [2.12132034 0.70710678]\n",
      " [3.53553391 0.70710678]\n",
      " [2.91547595 0.70710678]\n",
      " [0.70710678 2.91547595]\n",
      " [0.70710678 3.53553391]\n",
      " [0.70710678 2.12132034]\n",
      " [0.70710678 2.91547595]]\n",
      "质心为：[[1.5, 3.5], [3.5, 1.5]]\n",
      "集群为：[[[1, 3], [1, 4], [2, 3], [2, 4]], [[3, 1], [3, 2], [4, 1], [4, 2]]]\n"
     ]
    },
    {
     "data": {
      "image/png": "[encoded data removed]",
      "text/plain": [
       "<Figure size 432x288 with 1 Axes>"
      ]
     },
     "metadata": {
      "needs_background": "light"
     },
     "output_type": "display_data"
    }
   ],
   "source": [
    "import random\n",
    "import pandas as pd\n",
    "import numpy as np\n",
    "import matplotlib.pyplot as plt\n",
    "\n",
    "# 计算欧式距离\n",
    "def calcDis(dataSet, centroids, k):\n",
    "    clalist=[]\n",
    "    for data in dataSet:\n",
    "        diff = np.tile(data, (k, 1)) - centroids  #相减   (np.tile(a,(2,1))就是把a先沿x轴复制1倍，即没有复制，仍然是 [0,1,2]。 再把结果沿y方向复制2倍得到array([[0,1,2],[0,1,2]]))\n",
    "        squaredDiff = diff ** 2     #平方\n",
    "        squaredDist = np.sum(squaredDiff, axis=1)   #和  (axis=1表示行)\n",
    "        distance = squaredDist ** 0.5  #开根号\n",
    "        clalist.append(distance) \n",
    "    clalist = np.array(clalist)  #返回一个每个点到质点的距离len(dateSet)*k的数组\n",
    "    print(clalist)\n",
    "    return clalist\n",
    "\n",
    "# 计算质心\n",
    "def classify(dataSet, centroids, k):\n",
    "    # 计算样本到质心的距离\n",
    "    clalist = calcDis(dataSet, centroids, k)\n",
    "    # 分组并计算新的质心\n",
    "    minDistIndices = np.argmin(clalist, axis=1)    #axis=1 表示求出每行的最小值的下标\n",
    "    newCentroids = pd.DataFrame(dataSet).groupby(minDistIndices).mean() #DataFramte(dataSet)对DataSet分组，groupby(min)按照min进行统计分类，mean()对分类结果求均值\n",
    "    newCentroids = newCentroids.values\n",
    " \n",
    "    # 计算变化量\n",
    "    changed = newCentroids - centroids\n",
    " \n",
    "    return changed, newCentroids\n",
    "\n",
    "# 使用k-means分类\n",
    "def kmeans(dataSet, k):\n",
    "    # 初始化质心\n",
    "    centroids = [[0,4],[3,3]]\n",
    "    \n",
    "    # 更新质心 直到变化量全为0\n",
    "    changed, newCentroids = classify(dataSet, centroids, k)\n",
    "    while np.any(changed != 0):\n",
    "        changed, newCentroids = classify(dataSet, newCentroids, k)\n",
    " \n",
    "    centroids = sorted(newCentroids.tolist())   #tolist()将矩阵转换成列表 sorted()排序\n",
    " \n",
    "    # 根据质心计算每个集群\n",
    "    cluster = []\n",
    "    clalist = calcDis(dataSet, centroids, k) #调用欧拉距离\n",
    "    minDistIndices = np.argmin(clalist, axis=1)  \n",
    "    for i in range(k):\n",
    "        cluster.append([])\n",
    "    for i, j in enumerate(minDistIndices):   #enymerate()可同时遍历索引和遍历元素\n",
    "        cluster[j].append(dataSet[i])\n",
    "        \n",
    "    return centroids, cluster\n",
    " \n",
    "# 创建数据集\n",
    "def createDataSet():\n",
    "    return [[3,1], [3,2], [4,1], [4,2], [1,3], [1,4],[2,3],[2,4]]\n",
    "\n",
    "if __name__=='__main__': \n",
    "    dataset = createDataSet()\n",
    "    centroids, cluster = kmeans(dataset, 2)\n",
    "    print('质心为：%s' % centroids)\n",
    "    print('集群为：%s' % cluster)\n",
    "    for i in range(len(dataset)):\n",
    "        plt.scatter(dataset[i][0],dataset[i][1], marker = 'o',color = 'green', s = 40 ,label = '原始点')\n",
    "    for j in range(len(centroids)):\n",
    "        plt.scatter(centroids[j][0],centroids[j][1],marker='x',color='red',s=50,label='质心')\n",
    "    plt.show()"
   ]
  }
 ],
 "metadata": {
  "kernelspec": {
   "display_name": "Python 3 (ipykernel)",
   "language": "python",
   "name": "python3"
  },
  "language_info": {
   "codemirror_mode": {
    "name": "ipython",
    "version": 3
   },
   "file_extension": ".py",
   "mimetype": "text/x-python",
   "name": "python",
   "nbconvert_exporter": "python",
   "pygments_lexer": "ipython3",
   "version": "3.9.7"
  }
 },
 "nbformat": 4,
 "nbformat_minor": 5
}

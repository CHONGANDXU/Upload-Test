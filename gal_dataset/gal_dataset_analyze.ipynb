{
 "cells": [
  {
   "cell_type": "code",
   "execution_count": 3,
   "metadata": {},
   "outputs": [
    {
     "name": "stdout",
     "output_type": "stream",
     "text": [
      "    制作公司（母）  子分类                  游戏名称            游戏译名        发售日   汉化组  \\\n",
      "833    SEGA  *无*                 サクラ大戦            樱花大战  1996/9/27  大新资讯   \n",
      "834    SEGA  *无*  サクラ大戦２～君、死にたもうことなかれ～    樱花大战2 ～愿君平安～   1998/4/4  大新资讯   \n",
      "835    SEGA  *无*     サクラ大戦３～巴里は燃えているか～  樱花大战3 ～巴黎在燃烧吗～  2001/3/22  大新资讯   \n",
      "836    SEGA  *无*        サクラ大戦4 ～恋せよ乙女～    樱花大战4～恋爱吧少女～  2002/3/21   英特卫   \n",
      "\n",
      "      汉化进度  评分人数  评分(VNDB)        总评  \n",
      "833  官方中文化   135   71.9747  1.638110  \n",
      "834  官方中文化    64   72.6363  0.844443  \n",
      "835  官方中文化    38   71.3993  0.561119  \n",
      "836  官方中文化    31   64.6043  0.338661  \n"
     ]
    }
   ],
   "source": [
    "import pandas as pd\n",
    "import numpy as np\n",
    "\n",
    "gal_dataset = pd.read_csv(\"result(uft-8).csv\",encoding=\"utf-8\")\n",
    "group = gal_dataset.groupby(\"制作公司（母）\")\n",
    "one_group = group.get_group('SEGA')\n",
    "print(one_group)"
   ]
  }
 ],
 "metadata": {
  "kernelspec": {
   "display_name": "base",
   "language": "python",
   "name": "python3"
  },
  "language_info": {
   "codemirror_mode": {
    "name": "ipython",
    "version": 3
   },
   "file_extension": ".py",
   "mimetype": "text/x-python",
   "name": "python",
   "nbconvert_exporter": "python",
   "pygments_lexer": "ipython3",
   "version": "3.10.12"
  },
  "orig_nbformat": 4
 },
 "nbformat": 4,
 "nbformat_minor": 2
}

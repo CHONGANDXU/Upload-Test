{
 "cells": [
  {
   "cell_type": "markdown",
   "metadata": {},
   "source": [
    "## 实验项目名称：使用 KNN 进行水果分类\n",
    "\n",
    "## 实验目的和要求：\n",
    "\n",
    "- 掌握最近邻分类概念及原理\n",
    "- 掌握 KNN 算法原理\n",
    "- 掌握最近领模型的构建方法\n",
    "- 熟悉 sklearn 估计器的用法\n",
    "- 掌握模型的评价方法\n",
    "- 掌握数据标准化的方法\n",
    "\n",
    "## 实验内容：\n",
    "\n",
    "#### 本实验使用 KNN 方法，对水果数据进行 KNN 分类，然后预测 A、B 两种水果的类别。本实验水果数据集存储在 fruit_data.txt 文件中；每行表示一个待测定的水果，每列为一个特征。特征从左到右依次为：\n",
    "\n",
    "- fruit_label:标记值，表示水果的类别，1-苹果，2-橘子，3-橙子,4-柠檬\n",
    "- mass:水果的重量\n",
    "- width：水果的宽度\n",
    "- height:水果的高度\n",
    "- color_socre:颜色值\n",
    "\n",
    "#### 待分类的水果存储在 predict_fruit.txt 文件中。\n",
    "\n",
    "knn 模型详细参数可参考\n",
    "https://scikit-learn.org/stable/modules/generated/sklearn.neighbors.KNeighborsClassifier.html#sklearn.neighbors.KNeighborsClassifier\n"
   ]
  },
  {
   "cell_type": "markdown",
   "metadata": {},
   "source": [
    "## 实验步骤及结果：\n"
   ]
  },
  {
   "cell_type": "code",
   "execution_count": null,
   "metadata": {},
   "outputs": [],
   "source": [
    "import pandas as pd\n",
    "from sklearn.neighbors import KNeighborsClassifier\n",
    "from sklearn.model_selection import train_test_split\n",
    "\n",
    "fruit_data = pd.read_csv(\"./python_data/fruit_data.txt\", sep=\"\\t\", header=None)\n",
    "fruit_data.columns = [\"fruit_label\", \"mass\", \"width\", \"height\", \"color_score\"]\n",
    "\n",
    "data_x = fruit_data.iloc[:, 1:]\n",
    "data_y = fruit_data.iloc[:, 0]\n",
    "data_x.head()"
   ]
  },
  {
   "cell_type": "code",
   "execution_count": null,
   "metadata": {},
   "outputs": [],
   "source": [
    "# 划分成测试集和训练集\n",
    "fruit_train_X, fruit_test_X, fruit_train_y, fruit_test_y = train_test_split(\n",
    "    data_x, data_y, test_size=0.1, random_state=None\n",
    ")\n",
    "# 分类器初始化\n",
    "knn = KNeighborsClassifier(n_neighbors=3, n_jobs=-1)\n",
    "# 对训练集进行训练\n",
    "knn.fit(fruit_train_X, fruit_train_y)\n",
    "# 对测试集数据的鸢尾花类型进行预测\n",
    "predict_result = knn.predict(fruit_test_X)\n",
    "print(\"原测试集X: \\n\", fruit_test_X)\n",
    "print(\"原测试集Y: \\n\", fruit_test_y)\n",
    "print(\"预测结果：\", predict_result)\n",
    "print(\"预测精确率：\", knn.score(fruit_test_X, fruit_test_y))\n",
    "\n",
    "\n",
    "predict_fruit = pd.read_csv(\"python_data/predict_fruit.txt\", sep=\",\", header=None)\n",
    "predict_fruit.columns = [\"fruit_label\", \"mass\", \"width\", \"height\", \"color_score\"]\n",
    "predict_fruit = predict_fruit.iloc[:, 1:]\n",
    "predict_result = knn.predict(predict_fruit)\n",
    "\n",
    "print(\"真正预测的值为{}\".format(predict_result))\n",
    "print(\"预测的水果为:\", end=\" \")\n",
    "for i in predict_result:\n",
    "    if i == 1:\n",
    "        print(\"苹果\", end=\" \")\n",
    "    if i == 2:\n",
    "        print(\"橘子\", end=\" \")\n",
    "    if i == 3:\n",
    "        print(\"橙子\", end=\" \")\n",
    "    if i == 4:\n",
    "        print(\"柠檬\", end=\" \")"
   ]
  },
  {
   "cell_type": "markdown",
   "metadata": {},
   "source": [
    "## 实验结果分析:\n"
   ]
  },
  {
   "cell_type": "markdown",
   "metadata": {},
   "source": [
    "1.你建立的 KNN 分类模型中 K 取值为？\n"
   ]
  },
  {
   "cell_type": "markdown",
   "metadata": {},
   "source": [
    "k 的取值为 3\n"
   ]
  },
  {
   "cell_type": "markdown",
   "metadata": {},
   "source": [
    "2.预测 A 是什么水果？预测 B 是什么水果？\n"
   ]
  },
  {
   "cell_type": "markdown",
   "metadata": {},
   "source": [
    "- 预测 A 是苹果\n",
    "- 预测 B 是柠檬\n"
   ]
  },
  {
   "cell_type": "markdown",
   "metadata": {},
   "source": [
    "3.预测的准确性如何？\n"
   ]
  },
  {
   "cell_type": "markdown",
   "metadata": {},
   "source": [
    "准确性较高，重复运行，苹果柠檬的预测结果占大多数\n"
   ]
  },
  {
   "cell_type": "markdown",
   "metadata": {},
   "source": [
    "## 实验所需软件环境和库：\n",
    "\n",
    "Jupyter Notebook、Python 3.10、scikit-learn、Pandas\n"
   ]
  },
  {
   "cell_type": "markdown",
   "metadata": {},
   "source": [
    "## 教师评语:\n"
   ]
  },
  {
   "cell_type": "markdown",
   "metadata": {},
   "source": []
  }
 ],
 "metadata": {
  "interpreter": {
   "hash": "406f26811bead5fcdd0bab426e57323b5d8401a0c5cd4479a7a438038bbbde2e"
  },
  "kernelspec": {
   "display_name": "Python 3.9.7 ('base')",
   "language": "python",
   "name": "python3"
  },
  "language_info": {
   "codemirror_mode": {
    "name": "ipython",
    "version": 3
   },
   "file_extension": ".py",
   "mimetype": "text/x-python",
   "name": "python",
   "nbconvert_exporter": "python",
   "pygments_lexer": "ipython3",
   "version": "3.10.13"
  }
 },
 "nbformat": 4,
 "nbformat_minor": 2
}

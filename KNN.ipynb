{
 "cells": [
  {
   "cell_type": "markdown",
   "metadata": {},
   "source": [
    "## 实验项目名称：使用KNN进行水果分类\n",
    "\n",
    "## 实验目的和要求：\n",
    "* 掌握最近邻分类概念及原理   \n",
    "* 掌握KNN算法原理\n",
    "* 掌握最近领模型的构建方法\n",
    "* 熟悉sklearn估计器的用法\n",
    "* 掌握模型的评价方法\n",
    "* 掌握数据标准化的方法\n",
    "\n",
    "## 实验内容：\n",
    "#### 本实验使用KNN方法，对水果数据进行KNN分类，然后预测A、B两种水果的类别。本实验水果数据集存储在fruit_data.txt文件中；每行表示一个待测定的水果，每列为一个特征。特征从左到右依次为：\n",
    "* fruit_label:标记值，表示水果的类别，1-苹果，2-橘子，3-橙子,4-柠檬\n",
    "* mass:水果的重量\n",
    "* width：水果的宽度\n",
    "* height:水果的高度\n",
    "* color_socre:颜色值\n",
    "\n",
    "#### 待分类的水果存储在predict_fruit.txt文件中。\n",
    "\n",
    "knn模型详细参数可参考\n",
    "https://scikit-learn.org/stable/modules/generated/sklearn.neighbors.KNeighborsClassifier.html#sklearn.neighbors.KNeighborsClassifier"
   ]
  },
  {
   "cell_type": "markdown",
   "metadata": {},
   "source": [
    "## 实验步骤及结果：      \n"
   ]
  },
  {
   "cell_type": "code",
   "execution_count": 17,
   "metadata": {},
   "outputs": [
    {
     "name": "stderr",
     "output_type": "stream",
     "text": [
      "c:\\Users\\CqC33\\Anaconda3\\lib\\site-packages\\IPython\\core\\interactiveshell.py:3397: FutureWarning: In a future version of pandas all arguments of read_csv except for the argument 'filepath_or_buffer' will be keyword-only.\n",
      "  exec(code_obj, self.user_global_ns, self.user_ns)\n"
     ]
    },
    {
     "data": {
      "text/html": [
       "<div>\n",
       "<style scoped>\n",
       "    .dataframe tbody tr th:only-of-type {\n",
       "        vertical-align: middle;\n",
       "    }\n",
       "\n",
       "    .dataframe tbody tr th {\n",
       "        vertical-align: top;\n",
       "    }\n",
       "\n",
       "    .dataframe thead th {\n",
       "        text-align: right;\n",
       "    }\n",
       "</style>\n",
       "<table border=\"1\" class=\"dataframe\">\n",
       "  <thead>\n",
       "    <tr style=\"text-align: right;\">\n",
       "      <th></th>\n",
       "      <th>mass</th>\n",
       "      <th>width</th>\n",
       "      <th>height</th>\n",
       "      <th>color_score</th>\n",
       "    </tr>\n",
       "  </thead>\n",
       "  <tbody>\n",
       "    <tr>\n",
       "      <th>0</th>\n",
       "      <td>192</td>\n",
       "      <td>8.4</td>\n",
       "      <td>7.3</td>\n",
       "      <td>0.55</td>\n",
       "    </tr>\n",
       "    <tr>\n",
       "      <th>1</th>\n",
       "      <td>180</td>\n",
       "      <td>8.0</td>\n",
       "      <td>6.8</td>\n",
       "      <td>0.59</td>\n",
       "    </tr>\n",
       "    <tr>\n",
       "      <th>2</th>\n",
       "      <td>176</td>\n",
       "      <td>7.4</td>\n",
       "      <td>7.2</td>\n",
       "      <td>0.60</td>\n",
       "    </tr>\n",
       "    <tr>\n",
       "      <th>3</th>\n",
       "      <td>86</td>\n",
       "      <td>6.2</td>\n",
       "      <td>4.7</td>\n",
       "      <td>0.80</td>\n",
       "    </tr>\n",
       "    <tr>\n",
       "      <th>4</th>\n",
       "      <td>84</td>\n",
       "      <td>6.0</td>\n",
       "      <td>4.6</td>\n",
       "      <td>0.79</td>\n",
       "    </tr>\n",
       "  </tbody>\n",
       "</table>\n",
       "</div>"
      ],
      "text/plain": [
       "   mass  width  height  color_score\n",
       "0   192    8.4     7.3         0.55\n",
       "1   180    8.0     6.8         0.59\n",
       "2   176    7.4     7.2         0.60\n",
       "3    86    6.2     4.7         0.80\n",
       "4    84    6.0     4.6         0.79"
      ]
     },
     "execution_count": 17,
     "metadata": {},
     "output_type": "execute_result"
    }
   ],
   "source": [
    "import numpy as np\n",
    "import pandas as pd\n",
    "import matplotlib.pyplot as plt\n",
    "from matplotlib.colors import ListedColormap\n",
    "from sklearn.neighbors import KNeighborsClassifier\n",
    "from sklearn.model_selection import train_test_split\n",
    "\n",
    "fruit_data=pd.read_csv(\"./python_data/fruit_data.txt\",'\\t',header=None)\n",
    "fruit_data.columns=[\"fruit_label\",\"mass\",\"width\",\"height\",\"color_score\"]\n",
    "\n",
    "data_x = fruit_data.iloc[:,1:]\n",
    "data_y = fruit_data.iloc[:,0]\n",
    "data_x.head()"
   ]
  },
  {
   "cell_type": "code",
   "execution_count": 41,
   "metadata": {},
   "outputs": [
    {
     "name": "stdout",
     "output_type": "stream",
     "text": [
      "原测试集X: \n",
      "     mass  width  height  color_score\n",
      "20   160    7.5     7.5         0.86\n",
      "42   154    7.2     7.2         0.82\n",
      "26   362    9.6     9.2         0.74\n",
      "58   118    6.1     8.1         0.70\n",
      "57   152    6.5     8.5         0.72\n",
      "45   186    7.2     9.2         0.72\n",
      "原测试集Y: \n",
      " 20    1\n",
      "42    3\n",
      "26    3\n",
      "58    4\n",
      "57    4\n",
      "45    4\n",
      "Name: fruit_label, dtype: int64\n",
      "预测结果： [3 3 3 4 3 3]\n",
      "预测精确率： 0.5\n",
      "真正预测的值为[1 4]\n",
      "预测的水果为: 苹果 柠檬 "
     ]
    },
    {
     "name": "stderr",
     "output_type": "stream",
     "text": [
      "c:\\Users\\CqC33\\Anaconda3\\lib\\site-packages\\IPython\\core\\interactiveshell.py:3397: FutureWarning: In a future version of pandas all arguments of read_csv except for the argument 'filepath_or_buffer' will be keyword-only.\n",
      "  exec(code_obj, self.user_global_ns, self.user_ns)\n"
     ]
    }
   ],
   "source": [
    "# 划分成测试集和训练集\n",
    "fruit_train_X,fruit_test_X,fruit_train_y,fruit_test_y=train_test_split(data_x,data_y,test_size=0.1, random_state=None)\n",
    "#分类器初始化\n",
    "knn = KNeighborsClassifier(n_neighbors=3,n_jobs=-1)\n",
    "#对训练集进行训练\n",
    "knn.fit(fruit_train_X, fruit_train_y)\n",
    "#对测试集数据的鸢尾花类型进行预测\n",
    "predict_result = knn.predict(fruit_test_X)\n",
    "print('原测试集X: \\n',fruit_test_X)\n",
    "print('原测试集Y: \\n',fruit_test_y)\n",
    "print('预测结果：',predict_result)\n",
    "print('预测精确率：',knn.score(fruit_test_X, fruit_test_y))\n",
    "\n",
    "\n",
    "predict_fruit=pd.read_csv(\"python_data/predict_fruit.txt\",',',header=None)\n",
    "predict_fruit.columns=[\"fruit_label\",\"mass\",\"width\",\"height\",\"color_score\"]\n",
    "predict_fruit=predict_fruit.iloc[:,1:]\n",
    "predict_result=knn.predict(predict_fruit)\n",
    "\n",
    "print(\"真正预测的值为{}\".format(predict_result))\n",
    "print(\"预测的水果为:\",end=' ') \n",
    "for i in predict_result:\n",
    "    if(i==1):print(\"苹果\",end=' ')\n",
    "    if(i==2):print(\"橘子\",end=' ')\n",
    "    if(i==3):print(\"橙子\",end=' ')\n",
    "    if(i==4):print(\"柠檬\",end=' ')\n"
   ]
  },
  {
   "cell_type": "markdown",
   "metadata": {},
   "source": [
    "## 实验结果分析:   "
   ]
  },
  {
   "cell_type": "markdown",
   "metadata": {},
   "source": [
    "1.你建立的KNN分类模型中K取值为？"
   ]
  },
  {
   "cell_type": "markdown",
   "metadata": {},
   "source": [
    "k的取值为3"
   ]
  },
  {
   "cell_type": "markdown",
   "metadata": {},
   "source": [
    "2.预测A是什么水果？预测B是什么水果？"
   ]
  },
  {
   "cell_type": "markdown",
   "metadata": {},
   "source": [
    "- 预测A是苹果\n",
    "- 预测B是柠檬"
   ]
  },
  {
   "cell_type": "markdown",
   "metadata": {},
   "source": [
    "3.预测的准确性如何？"
   ]
  },
  {
   "cell_type": "markdown",
   "metadata": {},
   "source": [
    "准确性较高，重复运行，苹果柠檬的预测结果占大多数"
   ]
  },
  {
   "cell_type": "markdown",
   "metadata": {},
   "source": [
    "## 实验所需软件环境和库：\n",
    "Jupyter Notebook、Python、Sklearn、Numpy、Pandas"
   ]
  },
  {
   "cell_type": "markdown",
   "metadata": {},
   "source": [
    "## 教师评语:"
   ]
  },
  {
   "cell_type": "markdown",
   "metadata": {},
   "source": []
  }
 ],
 "metadata": {
  "interpreter": {
   "hash": "406f26811bead5fcdd0bab426e57323b5d8401a0c5cd4479a7a438038bbbde2e"
  },
  "kernelspec": {
   "display_name": "Python 3.9.7 ('base')",
   "language": "python",
   "name": "python3"
  },
  "language_info": {
   "codemirror_mode": {
    "name": "ipython",
    "version": 3
   },
   "file_extension": ".py",
   "mimetype": "text/x-python",
   "name": "python",
   "nbconvert_exporter": "python",
   "pygments_lexer": "ipython3",
   "version": "3.9.13"
  }
 },
 "nbformat": 4,
 "nbformat_minor": 2
}

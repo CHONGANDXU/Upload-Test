{
 "cells": [
  {
   "cell_type": "markdown",
   "metadata": {},
   "source": [
    "# Game: Eight Qweens\n",
    "\n",
    "> The classic Eight Queens puzzle is to place eight queens on a chessboard such that no two queens can attack each other (i.e, no two queens are in the same row, same column, or same diagonal).\n",
    ">\n",
    "> > There are many possible solutions.\n",
    "\n",
    "## Write aprogram that displays one such solution.\n",
    "\n",
    "### A sample output is shown below:\n",
    "\n",
    "**_Note: you cannot just pre-define a solution and display it._**\n",
    "Please use algorithm to display a possible solution.\n"
   ]
  },
  {
   "cell_type": "markdown",
   "metadata": {},
   "source": [
    "**算法 1：** 为解决 8 皇后问题，初步想法为，以随机数挑选皇后棋子的位置，一层一层判断是否符合要求\n"
   ]
  },
  {
   "cell_type": "code",
   "execution_count": null,
   "metadata": {},
   "outputs": [],
   "source": [
    "import random\n",
    "\n",
    "print(\"A possile solution is:\")\n",
    "i = range(0, 8)\n",
    "arr_change = list(i)\n",
    "arr_ran = list()\n",
    "for m in range(0, 8):\n",
    "    if m == 0:\n",
    "        n = random.randint(0, 7 - m)\n",
    "        arr_ran.append(arr_change[n])\n",
    "        arr_change.remove(arr_change[n])\n",
    "\n",
    "    if m >= 1 and m <= 6:\n",
    "        Flag = False\n",
    "        while not Flag:\n",
    "            n = random.randint(0, 7 - m)\n",
    "            arr_ran.append(arr_change[n])\n",
    "            for j in range(0, m):\n",
    "                if abs(arr_ran[m] - arr_ran[j]) == (m - j):\n",
    "                    Flag = False\n",
    "                    arr_ran.remove(arr_change[n])\n",
    "                    break\n",
    "                else:\n",
    "                    Flag = True\n",
    "        arr_change.remove(arr_change[n])\n",
    "\n",
    "    if m == 7:\n",
    "        arr_ran.append(arr_change[0])\n",
    "        arr_change.remove(arr_change[0])\n",
    "    # print(arr_ran)\n",
    "    # print(arr_change)\n",
    "    ran = arr_ran[m]\n",
    "    for i in range(0, 8):\n",
    "        if i == ran:\n",
    "            print(\"|Q\", end=\"\")\n",
    "        else:\n",
    "            print(\"|\", end=\" \")\n",
    "    print(\"|\")\n",
    "\n",
    "# 以上算法会陷入死循环，倘若最后两个随机数放入时，都不符合条件，则陷入死循环，没有跳出，报错"
   ]
  },
  {
   "cell_type": "markdown",
   "metadata": {},
   "source": [
    "**_由于以上算法 1 有几率得到死循环，为此我推翻以上算法，重做算法 2 如下_**\n",
    "\n",
    "**算法 2：**\n",
    "\n",
    "- 随机生成一个数列，直接判断其数列符合要求与否\n",
    "- 倘若数列不符合要求，则推翻此数列，再重新随机生成\n"
   ]
  },
  {
   "cell_type": "code",
   "execution_count": null,
   "metadata": {},
   "outputs": [],
   "source": [
    "import random\n",
    "\n",
    "print(\"A possile solution is:\")\n",
    "Flag = False\n",
    "while not Flag:\n",
    "    ran = range(0, 8)\n",
    "    arr_change = list(ran)\n",
    "    arr_ran = list()\n",
    "    for m in range(0, 8):\n",
    "        n = random.randint(0, 7 - m)\n",
    "        arr_ran.append(arr_change[n])\n",
    "        arr_change.remove(arr_change[n])\n",
    "    for i in range(1, 8):\n",
    "        for j in range(0, i):\n",
    "            if abs(arr_ran[i] - arr_ran[j]) == (i - j):\n",
    "                Flag = False\n",
    "                break\n",
    "            else:\n",
    "                Flag = True\n",
    "        if not Flag:\n",
    "            break\n",
    "print(\"最终满足要求的位置为\", arr_ran)\n",
    "for i in range(0, 8):\n",
    "\n",
    "    for j in range(0, 8):\n",
    "        if j == arr_ran[i]:\n",
    "            print(\"|Q\", end=\"\")\n",
    "        else:\n",
    "            print(\"|\", end=\" \")\n",
    "    print(\"|\")"
   ]
  }
 ],
 "metadata": {
  "interpreter": {
   "hash": "9635710dbda5c3414eafe0013d083834df6638d2dbd07e1833bc3749408b0f33"
  },
  "kernelspec": {
   "display_name": "Python 3.8.12 64-bit ('tensorflow': conda)",
   "language": "python",
   "name": "python3"
  },
  "language_info": {
   "codemirror_mode": {
    "name": "ipython",
    "version": 3
   },
   "file_extension": ".py",
   "mimetype": "text/x-python",
   "name": "python",
   "nbconvert_exporter": "python",
   "pygments_lexer": "ipython3",
   "version": "3.10.13"
  },
  "orig_nbformat": 4
 },
 "nbformat": 4,
 "nbformat_minor": 2
}

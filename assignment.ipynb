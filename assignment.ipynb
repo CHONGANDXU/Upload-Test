{
 "cells": [
  {
   "cell_type": "markdown",
   "metadata": {},
   "source": [
    "# 2022.3.4 作业\n",
    "\n",
    "## 3或5的倍数问题\n",
    "在小于10的自然数中,3或5的倍数有3、5、6、9,这些数之和是23。用python语言编程求小于1000的自然数中所有3或5的倍数之和。\n",
    "\n",
    "要求：代码及结果,可以在电脑上完成之后截屏提交。"
   ]
  },
  {
   "cell_type": "code",
   "execution_count": 1,
   "metadata": {},
   "outputs": [
    {
     "name": "stdout",
     "output_type": "stream",
     "text": [
      "小于1000的自然数中所有3或5的倍数之和为 233168\n"
     ]
    }
   ],
   "source": [
    "sum=0\n",
    "for m in range(1,1000):\n",
    "    if(m%3==0 or m%5==0):\n",
    "        sum+=m\n",
    "print(\"小于1000的自然数中所有3或5的倍数之和为\",sum)"
   ]
  },
  {
   "cell_type": "markdown",
   "metadata": {},
   "source": [
    "## 斐波那契数列中的每一项都是前两项的和。\n",
    "由1和2开始生成的斐波那契数列的前10项为：1,2,3,5,8,13,21,34,55,89,…考虑该斐波那契数列中不超过三百万的项,用python语言编程求其中为奇数的项之和。\n",
    "\n",
    "要求：代码及结果,可以在电脑上完成之后截屏提交。"
   ]
  },
  {
   "cell_type": "code",
   "execution_count": 5,
   "metadata": {},
   "outputs": [
    {
     "name": "stdout",
     "output_type": "stream",
     "text": [
      "不超过的3000000的最后一项数下标为 30\n",
      "不超过的3000000的最后一项数为 2178309\n",
      "斐波那契数列中不超过三百万的项，其中为奇数的项之和 4613731\n"
     ]
    }
   ],
   "source": [
    "list=[1,2]\n",
    "sum=1\n",
    "for i in range(2,1000):\n",
    "    if((list[0]+list[1])<=3000000):\n",
    "        list.append(list[0]+list[1])\n",
    "        if(list[2]%2==1):\n",
    "            sum+=list[2]\n",
    "        list.remove(list[0])\n",
    "    else:\n",
    "        print(\"不超过的3000000的最后一项数下标为\",i-1)\n",
    "        print(\"不超过的3000000的最后一项数为\",list[1])\n",
    "        break\n",
    "print(\"斐波那契数列中不超过三百万的项,其中为奇数的项之和\",sum)"
   ]
  },
  {
   "cell_type": "markdown",
   "metadata": {},
   "source": [
    "$$\n",
    "\\begin{aligned}\n",
    "&当 x\\rightarrow 0 时 \\\\\n",
    "&x\\sim \\sin \\mathrm{x} \\sim \\arcsin{\\mathrm{x}} \\sim \\tan \\mathrm{x} \\sim \\arctan{\\mathrm{x}} \\sim \\mathrm{e}^{\\mathrm{x}}-1 \\sim \\ln (1+\\mathrm{x}) \\\\\n",
    "\n",
    "&x^{2}+x \\sim x \\\\\n",
    "\n",
    "&1-\\cos x \\sim \\frac{1}{2} x^{2} \\\\\n",
    "\n",
    "&(1+x)^{\\alpha}-1 \\sim \\alpha x \\\\\n",
    "\n",
    "&a^{x}-1 \\sim x \\ln a \\\\\n",
    "\n",
    "&\\log _{a}(1+x) \\sim \\frac{1}{\\ln a} x \\\\\n",
    "\n",
    "&(1+\\alpha x)^{\\frac{m}{n}}-1 \\sim \\frac{m}{n} \\alpha x \\\\\n",
    "\n",
    "&\\sqrt{(1+x)}-\\sqrt{(1-x)} \\sim x \n",
    "\\end{aligned}\n",
    "$$"
   ]
  },
  {
   "cell_type": "code",
   "execution_count": 3,
   "metadata": {},
   "outputs": [
    {
     "name": "stdout",
     "output_type": "stream",
     "text": [
      "[-1.33564599e+00 -1.17816807e+00 -1.09942912e+00 -1.09942912e+00\n",
      " -8.63212252e-01 -7.84473297e-01 -7.84473297e-01 -7.05734341e-01\n",
      " -6.26995386e-01 -6.26995386e-01 -3.90778520e-01 -3.90778520e-01\n",
      " -3.90778520e-01 -3.90778520e-01  2.91625761e-03  2.39133124e-01\n",
      "  2.39133124e-01  3.96611035e-01  3.96611035e-01  3.96611035e-01\n",
      "  3.96611035e-01  4.75349990e-01  7.90305812e-01  1.18400059e+00\n",
      "  1.26273954e+00  1.73517328e+00  3.15247448e+00]\n"
     ]
    }
   ],
   "source": [
    "from sklearn import preprocessing\n",
    "import numpy as np\n",
    "# 初始化数据\n",
    "x = np.array([13,15,16,16,19,20,20,21,22,22,25,25,25,25,30,33,33,35,35,35,35,36,40,45,46,52,70])\n",
    "# 将数据进行Z-Score规范化\n",
    "scaled_x = preprocessing.scale(x)\n",
    "print(scaled_x)"
   ]
  }
 ],
 "metadata": {
  "interpreter": {
   "hash": "406f26811bead5fcdd0bab426e57323b5d8401a0c5cd4479a7a438038bbbde2e"
  },
  "kernelspec": {
   "display_name": "Python 3.9.7 ('base')",
   "language": "python",
   "name": "python3"
  },
  "language_info": {
   "codemirror_mode": {
    "name": "ipython",
    "version": 3
   },
   "file_extension": ".py",
   "mimetype": "text/x-python",
   "name": "python",
   "nbconvert_exporter": "python",
   "pygments_lexer": "ipython3",
   "version": "3.9.7"
  },
  "orig_nbformat": 4
 },
 "nbformat": 4,
 "nbformat_minor": 2
}

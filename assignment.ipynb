{
 "cells": [
  {
   "cell_type": "markdown",
   "metadata": {},
   "source": [
    "# 2022.3.4 作业\n",
    "\n",
    "## 3 或 5 的倍数问题\n",
    "\n",
    "在小于 10 的自然数中,3 或 5 的倍数有 3、5、6、9,这些数之和是 23。用 python 语言编程求小于 1000 的自然数中所有 3 或 5 的倍数之和。\n",
    "\n",
    "要求：代码及结果,可以在电脑上完成之后截屏提交。\n"
   ]
  },
  {
   "cell_type": "code",
   "execution_count": null,
   "metadata": {},
   "outputs": [],
   "source": [
    "sum = 0\n",
    "for m in range(1, 1000):\n",
    "    if m % 3 == 0 or m % 5 == 0:\n",
    "        sum += m\n",
    "print(\"小于1000的自然数中所有3或5的倍数之和为\", sum)"
   ]
  },
  {
   "cell_type": "markdown",
   "metadata": {},
   "source": [
    "## 斐波那契数列中的每一项都是前两项的和。\n",
    "\n",
    "由 1 和 2 开始生成的斐波那契数列的前 10 项为：1,2,3,5,8,13,21,34,55,89,…考虑该斐波那契数列中不超过三百万的项,用 python 语言编程求其中为奇数的项之和。\n",
    "\n",
    "要求：代码及结果,可以在电脑上完成之后截屏提交。\n"
   ]
  },
  {
   "cell_type": "code",
   "execution_count": null,
   "metadata": {},
   "outputs": [],
   "source": [
    "list = [1, 2]\n",
    "sum = 1\n",
    "for i in range(2, 1000):\n",
    "    if (list[0] + list[1]) <= 3000000:\n",
    "        list.append(list[0] + list[1])\n",
    "        if list[2] % 2 == 1:\n",
    "            sum += list[2]\n",
    "        list.remove(list[0])\n",
    "    else:\n",
    "        print(\"不超过的3000000的最后一项数下标为\", i - 1)\n",
    "        print(\"不超过的3000000的最后一项数为\", list[1])\n",
    "        break\n",
    "print(\"斐波那契数列中不超过三百万的项,其中为奇数的项之和\", sum)"
   ]
  },
  {
   "cell_type": "markdown",
   "metadata": {},
   "source": [
    "$$\n",
    "\\begin{aligned}\n",
    "&当 x\\rightarrow 0 时 \\\\\n",
    "&x\\sim \\sin \\mathrm{x} \\sim \\arcsin{\\mathrm{x}} \\sim \\tan \\mathrm{x} \\sim \\arctan{\\mathrm{x}} \\sim \\mathrm{e}^{\\mathrm{x}}-1 \\sim \\ln (1+\\mathrm{x}) \\\\\n",
    "\n",
    "&x^{2}+x \\sim x \\\\\n",
    "\n",
    "&1-\\cos x \\sim \\frac{1}{2} x^{2} \\\\\n",
    "\n",
    "&(1+x)^{\\alpha}-1 \\sim \\alpha x \\\\\n",
    "\n",
    "&a^{x}-1 \\sim x \\ln a \\\\\n",
    "\n",
    "&\\log _{a}(1+x) \\sim \\frac{1}{\\ln a} x \\\\\n",
    "\n",
    "&(1+\\alpha x)^{\\frac{m}{n}}-1 \\sim \\frac{m}{n} \\alpha x \\\\\n",
    "\n",
    "&\\sqrt{(1+x)}-\\sqrt{(1-x)} \\sim x\n",
    "\\end{aligned}\n",
    "$$\n"
   ]
  },
  {
   "cell_type": "code",
   "execution_count": null,
   "metadata": {},
   "outputs": [],
   "source": [
    "from sklearn import preprocessing\n",
    "import numpy as np\n",
    "\n",
    "# 初始化数据\n",
    "x = np.array(\n",
    "    [\n",
    "        13,\n",
    "        15,\n",
    "        16,\n",
    "        16,\n",
    "        19,\n",
    "        20,\n",
    "        20,\n",
    "        21,\n",
    "        22,\n",
    "        22,\n",
    "        25,\n",
    "        25,\n",
    "        25,\n",
    "        25,\n",
    "        30,\n",
    "        33,\n",
    "        33,\n",
    "        35,\n",
    "        35,\n",
    "        35,\n",
    "        35,\n",
    "        36,\n",
    "        40,\n",
    "        45,\n",
    "        46,\n",
    "        52,\n",
    "        70,\n",
    "    ]\n",
    ")\n",
    "# 将数据进行Z-Score规范化\n",
    "scaled_x = preprocessing.scale(x)\n",
    "print(scaled_x)"
   ]
  }
 ],
 "metadata": {
  "interpreter": {
   "hash": "406f26811bead5fcdd0bab426e57323b5d8401a0c5cd4479a7a438038bbbde2e"
  },
  "kernelspec": {
   "display_name": "Python 3.9.7 ('base')",
   "language": "python",
   "name": "python3"
  },
  "language_info": {
   "codemirror_mode": {
    "name": "ipython",
    "version": 3
   },
   "file_extension": ".py",
   "mimetype": "text/x-python",
   "name": "python",
   "nbconvert_exporter": "python",
   "pygments_lexer": "ipython3",
   "version": "3.10.13"
  },
  "orig_nbformat": 4
 },
 "nbformat": 4,
 "nbformat_minor": 2
}

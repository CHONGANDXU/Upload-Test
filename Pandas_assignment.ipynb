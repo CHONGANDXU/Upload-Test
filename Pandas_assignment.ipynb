{
 "cells": [
  {
   "cell_type": "markdown",
   "metadata": {},
   "source": [
    "### 自主学习：\n",
    "\n",
    "#### 学习内容：Pandas 数据分析库基本操作\n",
    "\n",
    "#### 学习目标：\n",
    "\n",
    "（1）Pandas 中的主要数据结构\n",
    "\n",
    "（2）索引对象与常用属性\n",
    "\n",
    "（3）DataFrame 的数据查询与编辑\n",
    "\n",
    "（4）数据运算\n",
    "\n",
    "#### 重点和难点\n",
    "\n",
    "- 数据导入\n",
    "\n",
    "- 数据查询与编辑\n",
    "\n",
    "#### 参考资料：教材 246~250\n"
   ]
  },
  {
   "cell_type": "markdown",
   "metadata": {},
   "source": [
    "#### Pandas 数据切片与索引。\n",
    "\n",
    "在对 Pandas 数据进行操作时，如何选择部分行和列。\n",
    "\n",
    "**1.loc，用法为 pandas.loc[行索引，列索引]，根据行和列索引名称来进行选择**\n"
   ]
  },
  {
   "cell_type": "code",
   "execution_count": null,
   "metadata": {},
   "outputs": [],
   "source": [
    "import pandas as pd\n",
    "import numpy as np\n",
    "\n",
    "df1 = pd.DataFrame(\n",
    "    np.arange(9).reshape(3, 3), index=[\"a\", \"c\", \"d\"], columns=[\"one\", \"two\", \"four\"]\n",
    ")\n",
    "print(df1)"
   ]
  },
  {
   "cell_type": "code",
   "execution_count": null,
   "metadata": {},
   "outputs": [],
   "source": [
    "print(\"获取第1行数据\\n\", df1.loc[\"a\", :])"
   ]
  },
  {
   "cell_type": "code",
   "execution_count": null,
   "metadata": {},
   "outputs": [],
   "source": [
    "print(\"获取第1,3行、1,3列数据\\n\", df1.loc[[\"a\", \"d\"], [\"one\", \"four\"]])"
   ]
  },
  {
   "cell_type": "code",
   "execution_count": null,
   "metadata": {},
   "outputs": [],
   "source": [
    "print(\"获取第1列数据\\n\", df1.loc[:, \"one\"])"
   ]
  },
  {
   "cell_type": "markdown",
   "metadata": {},
   "source": [
    "**2.iloc 用法。iloc 使用行和列的数字索引，行索引就是 0 到 n-1，列索引就是 0 到 n-1**\n"
   ]
  },
  {
   "cell_type": "code",
   "execution_count": null,
   "metadata": {},
   "outputs": [],
   "source": [
    "print(\"获取第1行数据\\n\", df1.iloc[0, :])"
   ]
  },
  {
   "cell_type": "code",
   "execution_count": null,
   "metadata": {},
   "outputs": [],
   "source": [
    "print(\"获取第1,3行、1,3列数据\\n\", df1.iloc[[0, 2], [0, 2]])"
   ]
  },
  {
   "cell_type": "code",
   "execution_count": null,
   "metadata": {},
   "outputs": [],
   "source": [
    "print(\"获取第1列数据\\n\", df1.iloc[:, 0])"
   ]
  },
  {
   "cell_type": "code",
   "execution_count": null,
   "metadata": {},
   "outputs": [],
   "source": [
    "print(\"获取第1,2行、1,2列数据\\n\", df1.iloc[0:2, 0:2])"
   ]
  },
  {
   "cell_type": "markdown",
   "metadata": {},
   "source": [
    "**3.布尔选择。选择符合某种条件的数据，就需要使用布尔选择。**\n"
   ]
  },
  {
   "cell_type": "code",
   "execution_count": null,
   "metadata": {},
   "outputs": [],
   "source": [
    "data = {\n",
    "    \"name\": [\"Angel\", \"Tom\", \"cyning\", \"Anna\", \"peter\"],\n",
    "    \"age\": [11, 15, 23, 9, 25],\n",
    "    \"score\": [89, 90, 96, 76, 63],\n",
    "}\n",
    "dff = pd.DataFrame(data)"
   ]
  },
  {
   "cell_type": "code",
   "execution_count": null,
   "metadata": {},
   "outputs": [],
   "source": [
    "print(\"选择成绩大于60的数据\\n\", dff[dff[\"score\"] > 80])"
   ]
  },
  {
   "cell_type": "code",
   "execution_count": null,
   "metadata": {},
   "outputs": [],
   "source": [
    "print(\n",
    "    \"获取Angel和peter的成绩单\\n\",\n",
    "    dff[(dff[\"name\"] == \"Angel\") | (dff[\"name\"] == \"peter\")],\n",
    ")"
   ]
  },
  {
   "cell_type": "markdown",
   "metadata": {},
   "source": [
    "#### 要求：\n",
    "\n",
    "学习完成后，完成下列习题，并将此文档（包括运行结果）另存为 html 格式文件，文件名为：学号+姓名+自主学习 Pandas.html，上传至教师机。\n"
   ]
  },
  {
   "cell_type": "markdown",
   "metadata": {},
   "source": [
    "### 习题\n",
    "\n",
    "表 7.4 Class1\n",
    "\n",
    "| name   | Course1 | Course2 | Course3 |\n",
    "| ------ | ------- | ------- | ------- |\n",
    "| Jack   | 47      | 88      | 46      |\n",
    "| Anna   | 94      | 100     | 48      |\n",
    "| Cyning | 100     | 98      | 100     |\n",
    "| Tom    | 96      | 94      | 76      |\n",
    "| Peter  | 51      | 96      | 96      |\n",
    "| John   | 98      | 94      | 43      |\n",
    "| Jerry  | 59      | 92      | 76      |\n",
    "| Timmy  | 100     | 44      | 69      |\n",
    "| Elsa   | 75      | 90      | 49      |\n",
    "| Steve  | 98      | 80      | 72      |\n",
    "\n",
    "表 7.5 Class2\n",
    "\n",
    "| name  | Course1 | Course2 | Course3 |\n",
    "| ----- | ------- | ------- | ------- |\n",
    "| Cole  | 43      | 66      | 94      |\n",
    "| David | 67      | 98      | 20      |\n",
    "| Nick  | 90      | 76      | 42      |\n",
    "| Paul  | 21      | 72      | 98      |\n",
    "| April | 90      | 87      | 41      |\n",
    "| Sam   | 45      | 94      | 80      |\n",
    "| Carry | 76      | 78      | 20      |\n",
    "| Ginna | 49      | 66      | 14      |\n",
    "| Lily  | 53      | 74      | 51      |\n",
    "| Rose  | 49      | 70      | 67      |\n",
    "\n",
    "可通过 mean()、max()、min()、std()方法分别得到均值、最大值、最小值、标准差等信息（也可以直接通过 describe()方法一次性获得均值、最大值等信息，再挑选需要信息添加进原本表中），再通过 append()方法将均值等信息添加到原来表中。\n"
   ]
  },
  {
   "cell_type": "markdown",
   "metadata": {},
   "source": [
    "（1）在不使用库函数和使用库函数两种情况下，分别计算 Class1 和 Class2 每门课成绩的均值、方差、标准差、最大值和最小值，并将每门课成绩的统计结果添加在对应的课程下方。\n"
   ]
  },
  {
   "cell_type": "code",
   "execution_count": null,
   "metadata": {},
   "outputs": [],
   "source": [
    "import pandas as pd\n",
    "import numpy as np\n",
    "\n",
    "Class1 = {\n",
    "    \"name\": [\n",
    "        \"Jack\",\n",
    "        \"Anna\",\n",
    "        \"Cyning\",\n",
    "        \"Tom\",\n",
    "        \"Peter\",\n",
    "        \"John\",\n",
    "        \"Jerry\",\n",
    "        \"Timmy\",\n",
    "        \"Elsa\",\n",
    "        \"Steve\",\n",
    "    ],\n",
    "    \"Course1\": [47, 94, 100, 96, 51, 98, 59, 100, 75, 98],\n",
    "    \"Course2\": [88, 100, 98, 94, 96, 94, 92, 44, 90, 80],\n",
    "    \"Course3\": [46, 48, 100, 76, 96, 43, 76, 96, 49, 72],\n",
    "}\n",
    "df_Class1 = pd.DataFrame(Class1)\n",
    "# print(df_Class1.describe(),'\\n')\n",
    "df_Class1_describe = pd.DataFrame(df_Class1.describe())\n",
    "# print(df_Class1_describe.iloc[[1,2,3,7],:],'\\n')\n",
    "Class1_change = pd.concat([df_Class1, df_Class1_describe.iloc[[1, 2, 3, 7], :]])\n",
    "print(Class1_change, \"\\n\")\n",
    "\n",
    "Class2 = {\n",
    "    \"name\": [\n",
    "        \"Cole\",\n",
    "        \"David\",\n",
    "        \"Nick\",\n",
    "        \"Paul\",\n",
    "        \"April\",\n",
    "        \"Sam\",\n",
    "        \"Carry\",\n",
    "        \"Ginna\",\n",
    "        \"Lily\",\n",
    "        \"Rose\",\n",
    "    ],\n",
    "    \"Course1\": [43, 67, 90, 21, 90, 45, 76, 49, 53, 49],\n",
    "    \"Course2\": [66, 98, 76, 72, 87, 94, 78, 66, 74, 70],\n",
    "    \"Course3\": [94, 20, 41, 98, 41, 80, 20, 14, 51, 67],\n",
    "}\n",
    "df_Class2 = pd.DataFrame(Class2)\n",
    "# print(df.describe(),'\\n')\n",
    "df_Class2_describe = pd.DataFrame(df_Class2.describe())\n",
    "# print(df_Class2_describe.iloc[[1,2,3,7],:],'\\n')\n",
    "Class2_change = pd.concat([df_Class2, df_Class2_describe.iloc[[1, 2, 3, 7], :]])\n",
    "print(Class2_change, \"\\n\")"
   ]
  },
  {
   "cell_type": "markdown",
   "metadata": {},
   "source": [
    "（2）在 Class1 中找出 Course1 中成绩高于 95 分、Course2 得分低于 60 分的同学。在 Class2 中找出 Course1、Course2 和 Course3 均高于 75 的同学。（可通过.loc 方法找到符合条件的样本）\n"
   ]
  },
  {
   "cell_type": "code",
   "execution_count": null,
   "metadata": {},
   "outputs": [],
   "source": [
    "print(\n",
    "    \"Class1中获取Course1中成绩高于95分、Course2得分低于60分的同学成绩单\\n\",\n",
    "    df_Class1[(df_Class1[\"Course1\"] > 95) & (df_Class1[\"Course2\"] < 60)],\n",
    "    \"\\n\",\n",
    ")\n",
    "\n",
    "print(\n",
    "    \"Class2中获取Course1、Course2和Course3均高于75的同学成绩单\\n\",\n",
    "    df_Class2[\n",
    "        (df_Class2[\"Course1\"] > 75)\n",
    "        & (df_Class2[\"Course2\"] > 75)\n",
    "        & (df_Class2[\"Course3\"] > 75)\n",
    "    ],\n",
    "    \"\\n\",\n",
    ")"
   ]
  },
  {
   "cell_type": "markdown",
   "metadata": {},
   "source": [
    "（3）将表 7.4 和表 7.5 按照对应的列名合并为一个表，分别统计 Course1 和 Course2、Course3 中成绩高于 60 分的人数，并绘制条形图。\n"
   ]
  },
  {
   "cell_type": "code",
   "execution_count": null,
   "metadata": {},
   "outputs": [],
   "source": [
    "df_All = pd.concat([df_Class1, df_Class2], ignore_index=True)\n",
    "# print(df_All)\n",
    "count1 = df_All[df_All[\"Course1\"] > 60].count()\n",
    "count2 = df_All[df_All[\"Course2\"] > 60].count()\n",
    "count3 = df_All[df_All[\"Course3\"] > 60].count()"
   ]
  },
  {
   "cell_type": "code",
   "execution_count": null,
   "metadata": {},
   "outputs": [],
   "source": [
    "import matplotlib.pyplot as plt\n",
    "from pylab import bar, text, show\n",
    "from matplotlib.markers import MarkerStyle\n",
    "\n",
    "a = [\"Course1>60\", \"Course2>60\", \"Course3>60\"]\n",
    "list = [count1[0], count2[0], count3[0]]\n",
    "\n",
    "X = np.asarray(a)\n",
    "Y1 = np.asarray(list)\n",
    "\n",
    "bar(X, Y1, facecolor=\"#8888ff\", edgecolor=\"white\")\n",
    "\n",
    "for x, y in zip(X, Y1):\n",
    "    text(x, y, \"%.2f\" % y, ha=\"center\", va=\"bottom\")\n",
    "\n",
    "plt.xlabel(\"Course\")\n",
    "plt.ylabel(\"Count\")\n",
    "show()"
   ]
  },
  {
   "cell_type": "code",
   "execution_count": null,
   "metadata": {},
   "outputs": [],
   "source": [
    "# eqs = []\n",
    "# eqs.append((r\"$W^{3\\beta}_{\\delta_1 \\rho_1 \\sigma_2} = U^{3\\beta}_{\\delta_1 \\rho_1} + \\frac{1}{8 \\pi 2} \\int^{\\alpha_2}_{\\alpha_2} d \\alpha^\\prime_2 \\left[\\frac{ U^{2\\beta}_{\\delta_1 \\rho_1} - \\alpha^\\prime_2U^{1\\beta}_{\\rho_1 \\sigma_2} }{U^{0\\beta}_{\\rho_1 \\sigma_2}}\\right]$\"))\n",
    "# eqs.append((r\"$\\frac{d\\rho}{d t} + \\rho \\vec{v}\\cdot\\nabla\\vec{v} = -\\nabla p + \\mu\\nabla^2 \\vec{v} + \\rho \\vec{g}$\"))\n",
    "# eqs.append((r\"$\\int_{-\\infty}^\\infty e^{-x^2}dx=\\sqrt{\\pi}$\"))\n",
    "# eqs.append((r\"$E = mc^2 = \\sqrt{{m_0}^2c^4 + p^2c^2}$\"))\n",
    "# eqs.append((r\"$F_G = G\\frac{m_1m_2}{r^2}$\"))\n",
    "\n",
    "# plt.axes([0.025,0.025,0.95,0.95])\n",
    "\n",
    "# for i in range(24):\n",
    "#    index = np.random.randint(0,len(eqs))\n",
    "#    eq = eqs[index]\n",
    "#    size = np.random.uniform(12,32)\n",
    "#    x,y = np.random.uniform(0,1,2)\n",
    "#    alpha = np.random.uniform(0.25,.75)\n",
    "#    plt.text(x, y, eq, ha='center', va='center', color=\"#11557c\", alpha=alpha,\n",
    "#            transform=plt.gca().transAxes, fontsize=size, clip_on=True)\n",
    "\n",
    "# plt.xticks([]), plt.yticks([])\n",
    "# savefig('../figures/text_ex.png',dpi=48)\n",
    "# plt.show()"
   ]
  },
  {
   "cell_type": "markdown",
   "metadata": {},
   "source": [
    "（4）根据（1）的统计结果，在一张图中分别绘制 Class1 和 Class2 的 3 门课成绩的均值直线图。绘制 Class1 的 3 门课成绩的散点图以及 Class2 的 3 门课成绩的箱型图。\n"
   ]
  },
  {
   "cell_type": "code",
   "execution_count": null,
   "metadata": {},
   "outputs": [],
   "source": [
    "print(df_Class1_describe.iloc[1, :])\n",
    "print(df_Class2_describe.iloc[1, :])\n",
    "x = np.array([\"Course1\", \"Course2\", \"Course3\"])\n",
    "ypoints1 = np.array(df_Class1_describe.iloc[1, :])\n",
    "ypoints2 = np.array(df_Class2_describe.iloc[1, :])\n",
    "\n",
    "plt.plot(x, ypoints1, linestyle=\"dotted\")\n",
    "plt.plot(x, ypoints2, linestyle=\"dashdot\")\n",
    "plt.show()"
   ]
  },
  {
   "cell_type": "code",
   "execution_count": null,
   "metadata": {},
   "outputs": [],
   "source": [
    "D = MarkerStyle(\"D\")\n",
    "star = MarkerStyle(\"*\")\n",
    "\n",
    "plt.figure(num=3, figsize=(8, 5), dpi=300)\n",
    "x1 = np.array(range(10))\n",
    "y1 = df_Class1.sort_values(by=\"Course1\").iloc[:, 1]\n",
    "plt.xlabel(\"Class1_Course_Number\")\n",
    "plt.ylabel(\"Grade\")\n",
    "plt.scatter(x1, y1, marker=D)\n",
    "\n",
    "y2 = df_Class1.sort_values(by=\"Course2\").iloc[:, 2]\n",
    "plt.scatter(x1, y2, marker=star)\n",
    "\n",
    "\n",
    "y3 = df_Class1.sort_values(by=\"Course3\").iloc[:, 3]\n",
    "plt.scatter(x1, y3)\n",
    "show()\n",
    "\n",
    "plt.figure(num=3, figsize=(8, 5), dpi=300)\n",
    "m1 = df_Class2.sort_values(by=\"Course1\").iloc[:, 1]\n",
    "plt.xlabel(\"Class2_Course_Number\")\n",
    "plt.ylabel(\"Grade\")\n",
    "plt.scatter(x1, m1, marker=D)\n",
    "\n",
    "m2 = df_Class2.sort_values(by=\"Course2\").iloc[:, 2]\n",
    "plt.scatter(x1, m2, marker=star)\n",
    "\n",
    "m3 = df_Class2.sort_values(by=\"Course3\").iloc[:, 3]\n",
    "plt.scatter(x1, m3)\n",
    "show()"
   ]
  },
  {
   "cell_type": "code",
   "execution_count": null,
   "metadata": {},
   "outputs": [],
   "source": [
    "df_Class1.boxplot()\n",
    "show()\n",
    "\n",
    "df_Class2.boxplot()\n",
    "show()"
   ]
  }
 ],
 "metadata": {
  "kernelspec": {
   "display_name": "Python 3 (ipykernel)",
   "language": "python",
   "name": "python3"
  },
  "language_info": {
   "codemirror_mode": {
    "name": "ipython",
    "version": 3
   },
   "file_extension": ".py",
   "mimetype": "text/x-python",
   "name": "python",
   "nbconvert_exporter": "python",
   "pygments_lexer": "ipython3",
   "version": "3.10.13"
  }
 },
 "nbformat": 4,
 "nbformat_minor": 2
}

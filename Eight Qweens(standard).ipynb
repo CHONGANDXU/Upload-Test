{
 "cells": [
  {
   "cell_type": "markdown",
   "metadata": {},
   "source": [
    "# Game: Eight Qweens\n",
    "\n",
    "> The classic Eight Queens puzzle is to place eight queens on a chessboard such that no two queens can attack each other (i.e, no two queens are in the same row, same column, or same diagonal).\n",
    ">\n",
    "> > There are many possible solutions.\n",
    "\n",
    "## Write aprogram that displays one such solution.\n",
    "\n",
    "### A sample output is shown below:\n",
    "\n",
    "**_Note: you cannot just pre-define a solution and display it._**\n",
    "Please use algorithm to display a possible solution.\n"
   ]
  },
  {
   "cell_type": "code",
   "execution_count": null,
   "metadata": {},
   "outputs": [],
   "source": [
    "def conflict(state, nextColumn):\n",
    "    nextRow = rows = len(state)\n",
    "    for row in range(rows):\n",
    "        column = state[row]\n",
    "        if abs(column - nextColumn) in (0, nextRow - row):\n",
    "            \"\"\"\n",
    "            如果差值等于0,两个皇后在同一列,则代表冲突,返回True;\n",
    "            如果列的差值等与行的差,两个皇后在对角线上,则代表冲突,返回True;\n",
    "            \"\"\"\n",
    "            return True\n",
    "    return False"
   ]
  },
  {
   "cell_type": "code",
   "execution_count": null,
   "metadata": {},
   "outputs": [],
   "source": [
    "def queens(num, state=()):\n",
    "    \"\"\"\n",
    "    采用生成器的方式来产生每一个皇后的位置,并用递归来实现下一个皇后的位置\n",
    "    num: 皇后的数量\n",
    "    state: 标记已经排好的每个皇后的位置\n",
    "    \"\"\"\n",
    "    for pos in range(num):  # 八皇后的数量N=0, 1, 2, 3, 4, 5, 6 , 7 你要在哪一列放置皇后\n",
    "        # 如果不冲突，则递归构造棋盘。\n",
    "        if not conflict(state, pos):  # 回溯法的体现\n",
    "            # 如果棋盘状态state已经等于num-1，即到达倒数第二行，而这时最后一行皇后又没冲突，直接yield，打出其位置(pos, )\n",
    "            if len(state) == num - 1:  # state=()\n",
    "                yield (pos,)\n",
    "            else:  # (0, )\n",
    "                for result in queens(num, state + (pos,)):\n",
    "                    yield (pos,) + result"
   ]
  },
  {
   "cell_type": "code",
   "execution_count": null,
   "metadata": {},
   "outputs": [],
   "source": [
    "def prettyprint(solution):\n",
    "\n",
    "    def line(pos, length=len(solution)):\n",
    "        return \"| \" * (pos) + \"|Q\" + \"| \" * (length - pos - 1) + \"|\"\n",
    "\n",
    "    for pos in solution:\n",
    "        print(line(pos))"
   ]
  },
  {
   "cell_type": "code",
   "execution_count": null,
   "metadata": {},
   "outputs": [],
   "source": [
    "if __name__ == \"__main__\":\n",
    "    solutions = queens(8)\n",
    "    for index, solution in enumerate(solutions):\n",
    "        print(\"第%d种解决方案:\" % (index + 1), solution)\n",
    "        prettyprint(solution)\n",
    "        print(\"*\" * 100)"
   ]
  }
 ],
 "metadata": {
  "interpreter": {
   "hash": "9635710dbda5c3414eafe0013d083834df6638d2dbd07e1833bc3749408b0f33"
  },
  "kernelspec": {
   "display_name": "Python 3.8.12 64-bit ('tensorflow': conda)",
   "language": "python",
   "name": "python3"
  },
  "language_info": {
   "codemirror_mode": {
    "name": "ipython",
    "version": 3
   },
   "file_extension": ".py",
   "mimetype": "text/x-python",
   "name": "python",
   "nbconvert_exporter": "python",
   "pygments_lexer": "ipython3",
   "version": "3.10.13"
  },
  "orig_nbformat": 4
 },
 "nbformat": 4,
 "nbformat_minor": 2
}

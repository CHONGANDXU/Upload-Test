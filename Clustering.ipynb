{
 "cells": [
  {
   "cell_type": "markdown",
   "metadata": {},
   "source": [
    "# 实验项目名称：聚类分析\n",
    "## 实验目的及要求：\n",
    "* 掌握聚类的概念\n",
    "* 掌握k-means算法的原理\n",
    "* 掌握DBSCAN算法的原理\n",
    "* 掌握聚类模型的构建方法\n",
    "* 了解sklearn估计器的用法\n",
    "\n",
    "## 实验内容：\n",
    "* 读取load_diabetes数据集、查看数据表的基本信息\n",
    "* 使用TSNE函数对聚类之前数据进行可视化\n",
    "* 分别采用k-means和DBSCAN对数据集进行聚类模型训练\n",
    "* 采用聚类评价指标对两种模型的聚类结果进行评价\n",
    "* 使用TSNE函数对最优聚类数目的聚类结果进行可视化\n",
    "\n",
    "模型详细参数可参考    \n",
    "https://scikit-learn.org/stable/\n",
    "\n",
    "## 实验步骤及结果：\n",
    "\n",
    "###  1. 加载数据集，读取数据集load_diabetes，了解数据\n",
    "1. 获取数据\n",
    "Sklearn库的datasets模块集成了部分数据分析的经典数据集，可以使用这些数据集进行数据预处理、建模等操作。可以通过数据集加载函数加载load_diabetes数据集。  \n"
   ]
  },
  {
   "cell_type": "code",
   "execution_count": null,
   "metadata": {
    "scrolled": true
   },
   "outputs": [],
   "source": [
    "import matplotlib.pyplot as plt\n",
    "import numpy as np\n",
    "import pandas as pd\n",
    "from sklearn import datasets\n",
    "\n",
    "data_row=datasets.load_diabetes()\n",
    "data=data_row['data']\n",
    "target=data_row['target']\n",
    "feature=data_row['feature_names']\n",
    "df=pd.DataFrame(data,columns=feature)\n",
    "df.head()"
   ]
  },
  {
   "cell_type": "markdown",
   "metadata": {},
   "source": [
    "### 数据说明"
   ]
  },
  {
   "cell_type": "markdown",
   "metadata": {},
   "source": [
    "'DESCR':  \n",
    "Ten baseline variables, age, sex, body mass index, average blood pressure, and six blood serum measurements were obtained for each of 442 diabetes patients, as well as the response of interest, a quantitative measure of disease progression one year after baseline.  \n",
    "\n",
    "对442例糖尿病患者，分别获得了10个基线变量:年龄、性别、体重指数、平均血压和6个血清测量值，以及兴趣反应（基线后一年疾病进展的定量测量）。\n",
    "\n",
    "**数据集特征：**\n",
    "\n",
    "实例数：442\n",
    "\n",
    "属性数：前10列是数值预测值\n",
    "\n",
    "目标：第11列是基线检查后一年疾病进展的定量测量\n",
    "\n",
    "属性信息：\n",
    "\n",
    "- age   年龄（以年为单位）\n",
    "- sex   性别\n",
    "- bmi   体重指数\n",
    "- bp    血压平均值\n",
    "- s1    tc，T细胞（一种白细胞）\n",
    "- s2    低密度脂蛋白\n",
    "- s3    高密度脂蛋白，高密度脂蛋白\n",
    "- s4    tch，促甲状腺激素\n",
    "- s5    ltg，拉莫三嗪\n",
    "- s6    血糖，血糖水平  \n",
    "注：这10个特征变量中的每一个都以平均值为中心，并按标准差乘以“n_samples”（即每列的平方和总计为1）进行缩放。"
   ]
  },
  {
   "cell_type": "markdown",
   "metadata": {},
   "source": [
    "###  2.数据集可视化"
   ]
  },
  {
   "cell_type": "code",
   "execution_count": null,
   "metadata": {},
   "outputs": [],
   "source": [
    "from sklearn.manifold import TSNE\n",
    "\n",
    "tsne=TSNE(n_components=2,init='random',random_state=177,learning_rate='auto').fit(data)\n",
    "df_reduction=pd.DataFrame(tsne.embedding_)\n",
    "df_reduction"
   ]
  },
  {
   "cell_type": "code",
   "execution_count": null,
   "metadata": {},
   "outputs": [],
   "source": [
    "plt.figure(figsize=(10,8))\n",
    "plt.scatter(x=df_reduction[0],y=df_reduction[1],c='b')"
   ]
  },
  {
   "cell_type": "markdown",
   "metadata": {},
   "source": [
    "### 3.建立K-Means聚类模型、评价聚类模型选择最优聚类簇数目"
   ]
  },
  {
   "cell_type": "code",
   "execution_count": null,
   "metadata": {},
   "outputs": [],
   "source": [
    "from sklearn.cluster import KMeans\n",
    "from sklearn.metrics import silhouette_score\n",
    "from sklearn.metrics import calinski_harabasz_score\n",
    "\n",
    "silh_score=[]\n",
    "cali_score=[]\n",
    "inertia_score=[]\n",
    "for i in range(2,7):\n",
    "    kmeans=KMeans(n_clusters=i,random_state=123).fit(data)\n",
    "    score=silhouette_score(data,kmeans.labels_)\n",
    "    silh_score.append(score)\n",
    "    score=calinski_harabasz_score(data,kmeans.labels_)\n",
    "    cali_score.append(score)\n",
    "    score=kmeans.inertia_\n",
    "    inertia_score.append(score)\n",
    "\n",
    "print(silh_score)\n",
    "print(cali_score)\n",
    "print(inertia_score)\n",
    "\n",
    "plt.figure(figsize=(10,6))\n",
    "plt.plot(range(2,7),silh_score,'b*--',linewidth=1,markersize=10,label='silhouette_score')\n",
    "plt.legend()\n",
    "plt.xlabel('cluster')\n",
    "plt.ylabel('score')\n",
    "plt.show()\n",
    "\n",
    "plt.figure(figsize=(10,6))\n",
    "plt.plot(range(2,7),cali_score,'rs--',linewidth=1,markersize=10,label='calinski_harabasz_score')\n",
    "plt.legend()\n",
    "plt.xlabel('cluster')\n",
    "plt.ylabel('score')\n",
    "plt.show()\n",
    "\n",
    "plt.figure(figsize=(10,6))\n",
    "plt.plot(range(2,7),inertia_score,'go--',linewidth=1,markersize=10,label='inertia_score')\n",
    "plt.legend()\n",
    "plt.xlabel('cluster')\n",
    "plt.ylabel('score')\n",
    "plt.show()"
   ]
  },
  {
   "cell_type": "code",
   "execution_count": null,
   "metadata": {},
   "outputs": [],
   "source": [
    "kmeans_row=KMeans(n_clusters=2,random_state=123).fit(data)\n",
    "centroids_row=kmeans_row.cluster_centers_\n",
    "print(\"原始数据集K-Means聚类后质心为\",centroids_row,'\\n')\n",
    "\n",
    "kmeans=KMeans(n_clusters=2,random_state=123).fit(df_reduction)\n",
    "centroids=kmeans.cluster_centers_\n",
    "print(\"TSNE降维,K-Means聚类后质心为\",centroids)\n",
    "\n",
    "df_reduction['label']=kmeans.labels_\n",
    "cluster_0=df_reduction[df_reduction['label']==0]\n",
    "cluster_1=df_reduction[df_reduction['label']==1]\n",
    "\n",
    "plt.figure(figsize=(10,8))\n",
    "plt.scatter(x=cluster_0[0],y=cluster_0[1],c='b',label='cluster_0')\n",
    "plt.scatter(x=cluster_1[0],y=cluster_1[1],c='m',label='cluster_1')\n",
    "plt.scatter(centroids[:,0],centroids[:,1],marker='x',color='red',s=50,label='centroids')\n",
    "\n",
    "plt.legend()\n",
    "plt.show()\n",
    "print(df_reduction.shape)"
   ]
  },
  {
   "cell_type": "markdown",
   "metadata": {},
   "source": [
    "### 4.建立DBSCAN聚类模型、评价聚类模型选择最优聚类簇数目"
   ]
  },
  {
   "cell_type": "code",
   "execution_count": null,
   "metadata": {},
   "outputs": [],
   "source": [
    "from sklearn.cluster import DBSCAN\n",
    "\n",
    "for i in np.arange(0.09,0.11,0.001):\n",
    "    for j in np.arange(3,10):\n",
    "        DB=DBSCAN(eps=i,min_samples=j).fit(data)\n",
    "        labels=DB.labels_\n",
    "        n_clusters_=len(set(labels))-(1 if -1 in labels else 0)\n",
    "        n_noise_=list(labels).count(-1)\n",
    "        if n_clusters_==2 and n_noise_<=30:\n",
    "            print(\"参数eps={},min_samples={}\".format(i,j))\n",
    "            print(\"聚类之后的簇数目有{}个\".format(n_clusters_))\n",
    "            print(\"噪声数据有{}个\".format(n_noise_))\n",
    "            silh_score=silhouette_score(data,DB.labels_)\n",
    "            cali_score=calinski_harabasz_score(data,DB.labels_)          \n",
    "            print(\"silhouette方法得分为\",silh_score)\n",
    "            print(\"calinski_harabasz方法得分为\",cali_score)\n",
    "            print(\"---------------------------------------\")"
   ]
  },
  {
   "cell_type": "markdown",
   "metadata": {},
   "source": [
    "### 5. 对最优聚类数目的聚类结果进行可视化"
   ]
  },
  {
   "cell_type": "code",
   "execution_count": null,
   "metadata": {},
   "outputs": [],
   "source": [
    "DB=DBSCAN(eps=0.101,min_samples=4).fit(data)\n",
    "labels=DB.labels_\n",
    "n_clusters_=len(set(labels))-(1 if -1 in labels else 0)\n",
    "n_noise_=list(labels).count(-1)\n",
    "print(\"聚类之后的簇数目有{}个\".format(n_clusters_))\n",
    "print(\"噪声数据有{}个\".format(n_noise_))\n",
    "plt.figure(figsize=(10,8))\n",
    "plt.scatter(x=pd.DataFrame(tsne.embedding_)[:][0],y=pd.DataFrame(tsne.embedding_)[:][1],c=DB.labels_)"
   ]
  },
  {
   "cell_type": "markdown",
   "metadata": {},
   "source": [
    "### 6.K-Means划分为2个簇后每个点的簇分类情况"
   ]
  },
  {
   "cell_type": "code",
   "execution_count": null,
   "metadata": {},
   "outputs": [],
   "source": [
    "kmeans_label_Series=pd.Series(kmeans_row.labels_)\n",
    "kmeans_label_Series"
   ]
  },
  {
   "cell_type": "markdown",
   "metadata": {},
   "source": [
    "* 每个簇中的样本各有多少"
   ]
  },
  {
   "cell_type": "code",
   "execution_count": null,
   "metadata": {},
   "outputs": [],
   "source": [
    "kmeans_label_Series.value_counts().sort_index()"
   ]
  },
  {
   "cell_type": "markdown",
   "metadata": {},
   "source": [
    "* 簇质心的情况"
   ]
  },
  {
   "cell_type": "code",
   "execution_count": null,
   "metadata": {},
   "outputs": [],
   "source": [
    "centers=pd.DataFrame(kmeans_row.cluster_centers_,columns=feature)\n",
    "centers"
   ]
  },
  {
   "cell_type": "markdown",
   "metadata": {},
   "source": [
    "* 对每个簇质心的值降序排列"
   ]
  },
  {
   "cell_type": "code",
   "execution_count": null,
   "metadata": {},
   "outputs": [],
   "source": [
    "centers_t=centers.T\n",
    "centers_t.columns=pd.Series(['cluster_0','cluster_1'])\n",
    "centers_t"
   ]
  },
  {
   "cell_type": "code",
   "execution_count": null,
   "metadata": {},
   "outputs": [],
   "source": [
    "centers_t['cluster_0'].sort_values(ascending=False,inplace=False)"
   ]
  },
  {
   "cell_type": "code",
   "execution_count": null,
   "metadata": {},
   "outputs": [],
   "source": [
    "centers_t['cluster_1'].sort_values(ascending=False,inplace=False)"
   ]
  },
  {
   "cell_type": "markdown",
   "metadata": {},
   "source": [
    "## 实验结果分析:   "
   ]
  },
  {
   "cell_type": "markdown",
   "metadata": {},
   "source": [
    "1.最终确定的最优聚类簇数目及理由？"
   ]
  },
  {
   "cell_type": "markdown",
   "metadata": {},
   "source": [
    "最终确定的最优聚类簇数目为2个  \n",
    "理由如下：  \n",
    "- 根据轮廓系数(silhouette_score)评价k-means聚类模型，该值是簇密度与分散程度的评价指标，区间为[-1,1]之间，该值越接近1，簇越紧凑，聚类越好\n",
    "- 根据CH指标评价k-means聚类模型，值越大表示聚类效果越好\n",
    "- 根据误差平方和评价k-means聚类模型，数值趋于稳定时达到最优  \n",
    "### 总结：综合以上三个系数，选择最优的聚类簇数目为2"
   ]
  },
  {
   "cell_type": "markdown",
   "metadata": {},
   "source": [
    "2.结合数据集分析两种聚类方法的优缺点和运用场景？"
   ]
  },
  {
   "cell_type": "markdown",
   "metadata": {},
   "source": [
    "- K-Means\n",
    "    - 优点：\n",
    "        1. 原理简单，实现容易，收敛速度快\n",
    "        2. 聚类效果较优\n",
    "        3. 算法的可解释度比较强\n",
    "        4. 主要需要调参的参数仅仅是簇数k\n",
    "    - 缺点：\n",
    "        1. K均值很难处理非球形的簇和不同大小的簇\n",
    "        2. 对噪声、异常点比较敏感\n",
    "        3. 如果各隐含类别的数据不平衡，比如各隐含类别的数据量严重失衡，或者各隐含类别的方差不同，则聚类效果不佳\n",
    "        4. 采用迭代方法，得到的结果只是局部最优\n",
    "        5. 初始质心的选取对聚类结果有很大影响\n",
    "    - 运用场景：球形分布的簇，大小相近的簇\n",
    "    \n",
    "- DBSCAN\n",
    "    - 优点：\n",
    "        1. DBSCAN能剔除噪声，对数据集中的异常点不敏感，自动确定簇个数\n",
    "        2. 可以对任意形状的稠密数据集进行聚类\n",
    "        3. 聚类结果没有偏倚\n",
    "    - 缺点：\n",
    "        1. 如果样本集的密度不均匀、聚类间距差相差很大时，聚类质量较差\n",
    "        2. 如果样本集较大时，聚类收敛时间较长\n",
    "        3. 调参稍复杂，主要需要对距离阈值ϵ，邻域样本数阈值MinPts联合调参，不同的参数组合对最后的聚类效果有较大影响\n",
    "    - 运用场景：数据集密度较为均匀，聚类间距相差不大"
   ]
  },
  {
   "cell_type": "markdown",
   "metadata": {},
   "source": [
    "3.结合划分簇的质心取值，从医学角度分析聚类结果意义？"
   ]
  },
  {
   "cell_type": "markdown",
   "metadata": {},
   "source": [
    "共10个指标：年龄、性别、体重指数、平均血压和6个血清测量值，从聚类结果来看，这442例患者的测量指标主要可以分为2类\n",
    "- 一类的质心取值为\t0.016759\t0.015143\t0.023623\t0.020559\t0.024194\t0.025881\t-0.024767\t0.033360\t0.029984\t0.024538，表明年龄在这442例患者中在平均年龄再往上百分之1.6的患者，性别偏男性（或女性）的多百分之1.5的患者等等指标聚为一类\n",
    "- 另一类的质心取值为 -0.017855\t-0.016134\t-0.025168\t-0.021904\t-0.025777\t-0.027574\t0.026387\t-0.035543\t-0.031945\t-0.026143，明年龄在这这442例患者中在平均年龄再往下百分之1.7的患者，性别偏女性（或男性）的少百分之1.6的患者等等指标聚为一类"
   ]
  },
  {
   "cell_type": "markdown",
   "metadata": {},
   "source": [
    "## 实验环境：\n",
    "Anaconda Jupyter notebook、sklearn、matplotlib"
   ]
  },
  {
   "cell_type": "markdown",
   "metadata": {},
   "source": [
    "## 教师评语:"
   ]
  },
  {
   "cell_type": "markdown",
   "metadata": {},
   "source": [
    "\n",
    "\n",
    "\n",
    "\n",
    "\n",
    "\n",
    "\n"
   ]
  }
 ],
 "metadata": {
  "interpreter": {
   "hash": "406f26811bead5fcdd0bab426e57323b5d8401a0c5cd4479a7a438038bbbde2e"
  },
  "kernelspec": {
   "display_name": "Python 3.9.7 ('base')",
   "language": "python",
   "name": "python3"
  },
  "language_info": {
   "codemirror_mode": {
    "name": "ipython",
    "version": 3
   },
   "file_extension": ".py",
   "mimetype": "text/x-python",
   "name": "python",
   "nbconvert_exporter": "python",
   "pygments_lexer": "ipython3",
   "version": "3.10.12"
  }
 },
 "nbformat": 4,
 "nbformat_minor": 2
}

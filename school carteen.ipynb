{
 "cells": [
  {
   "attachments": {},
   "cell_type": "markdown",
   "metadata": {},
   "source": [
    "# 校园食堂随机选取吃什么——代码片段\n",
    ">本程序纯属无聊中的无聊，但是其中也映射出了本作者对本校食堂没什么可吃的控诉，已经到达了无语的程度  \n",
    ">希望大家理性批判"
   ]
  },
  {
   "cell_type": "code",
   "execution_count": 21,
   "metadata": {},
   "outputs": [
    {
     "name": "stderr",
     "output_type": "stream",
     "text": [
      "C:\\Users\\CqC33\\AppData\\Local\\Temp\\ipykernel_2160\\1256196682.py:10: FutureWarning: The frame.append method is deprecated and will be removed from pandas in a future version. Use pandas.concat instead.\n",
      "  food=food.append(data.iloc[new_index,:],ignore_index=True)\n"
     ]
    },
    {
     "data": {
      "text/html": [
       "<div>\n",
       "<style scoped>\n",
       "    .dataframe tbody tr th:only-of-type {\n",
       "        vertical-align: middle;\n",
       "    }\n",
       "\n",
       "    .dataframe tbody tr th {\n",
       "        vertical-align: top;\n",
       "    }\n",
       "\n",
       "    .dataframe thead th {\n",
       "        text-align: right;\n",
       "    }\n",
       "</style>\n",
       "<table border=\"1\" class=\"dataframe\">\n",
       "  <thead>\n",
       "    <tr style=\"text-align: right;\">\n",
       "      <th></th>\n",
       "      <th>carteen</th>\n",
       "      <th>food-name</th>\n",
       "    </tr>\n",
       "  </thead>\n",
       "  <tbody>\n",
       "    <tr>\n",
       "      <th>0</th>\n",
       "      <td>新食堂三楼</td>\n",
       "      <td>F+牛肉饭</td>\n",
       "    </tr>\n",
       "    <tr>\n",
       "      <th>1</th>\n",
       "      <td>北食堂一楼</td>\n",
       "      <td>煲仔饭</td>\n",
       "    </tr>\n",
       "    <tr>\n",
       "      <th>2</th>\n",
       "      <td>南食堂二楼</td>\n",
       "      <td>民族餐厅-(番茄鸡蛋盖饭)</td>\n",
       "    </tr>\n",
       "    <tr>\n",
       "      <th>3</th>\n",
       "      <td>南食堂二楼</td>\n",
       "      <td>民族餐厅-(番茄鸡蛋盖饭)</td>\n",
       "    </tr>\n",
       "    <tr>\n",
       "      <th>4</th>\n",
       "      <td>南食堂二楼</td>\n",
       "      <td>黄焖鸡米饭营养套餐</td>\n",
       "    </tr>\n",
       "  </tbody>\n",
       "</table>\n",
       "</div>"
      ],
      "text/plain": [
       "  carteen      food-name\n",
       "0   新食堂三楼          F+牛肉饭\n",
       "1   北食堂一楼            煲仔饭\n",
       "2   南食堂二楼  民族餐厅-(番茄鸡蛋盖饭)\n",
       "3   南食堂二楼  民族餐厅-(番茄鸡蛋盖饭)\n",
       "4   南食堂二楼      黄焖鸡米饭营养套餐"
      ]
     },
     "execution_count": 21,
     "metadata": {},
     "output_type": "execute_result"
    }
   ],
   "source": [
    "import random\n",
    "import pandas as pd\n",
    "\n",
    "data=pd.read_csv(\"school-carteen.csv\")\n",
    "\n",
    "food=pd.DataFrame()\n",
    "\n",
    "for i in range(5):\n",
    "    new_index=random.randint(0,len(data.index)-1)\n",
    "    food=food.append(data.iloc[new_index,:],ignore_index=True)\n",
    "\n",
    "food"
   ]
  }
 ],
 "metadata": {
  "interpreter": {
   "hash": "9635710dbda5c3414eafe0013d083834df6638d2dbd07e1833bc3749408b0f33"
  },
  "kernelspec": {
   "display_name": "Python 3.8.12 64-bit ('tensorflow': conda)",
   "language": "python",
   "name": "python3"
  },
  "language_info": {
   "codemirror_mode": {
    "name": "ipython",
    "version": 3
   },
   "file_extension": ".py",
   "mimetype": "text/x-python",
   "name": "python",
   "nbconvert_exporter": "python",
   "pygments_lexer": "ipython3",
   "version": "3.9.16"
  },
  "orig_nbformat": 4
 },
 "nbformat": 4,
 "nbformat_minor": 2
}

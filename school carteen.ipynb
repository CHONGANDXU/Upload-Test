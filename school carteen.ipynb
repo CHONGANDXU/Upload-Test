{
 "cells": [
  {
   "cell_type": "markdown",
   "metadata": {},
   "source": [
    "# 校园食堂随机选取吃什么小程序\n",
    ">本程序纯属无聊中的无聊，但是其中也映射出了本作者对本校食堂没什么可吃的控诉，已经到达了无语的程度  \n",
    ">希望大家理性批判"
   ]
  },
  {
   "cell_type": "code",
   "execution_count": 1,
   "metadata": {},
   "outputs": [
    {
     "name": "stdout",
     "output_type": "stream",
     "text": [
      "米线 馄饨 米皮 羊肉粉 煲仔饭 米线 外卖 冒菜 米皮 "
     ]
    }
   ],
   "source": [
    "import random\n",
    "for n in range(0,9):\n",
    "    list=['粉丝煲','羊肉粉','民族餐厅','米线','煲仔饭','黄焖鸡米饭','馄饨','米皮','冒菜','豆花饭','外卖']\n",
    "    i=random.randint(0,10)\n",
    "    print(list[i],end=' ')"
   ]
  }
 ],
 "metadata": {
  "interpreter": {
   "hash": "9635710dbda5c3414eafe0013d083834df6638d2dbd07e1833bc3749408b0f33"
  },
  "kernelspec": {
   "display_name": "Python 3.8.12 64-bit ('tensorflow': conda)",
   "language": "python",
   "name": "python3"
  },
  "language_info": {
   "codemirror_mode": {
    "name": "ipython",
    "version": 3
   },
   "file_extension": ".py",
   "mimetype": "text/x-python",
   "name": "python",
   "nbconvert_exporter": "python",
   "pygments_lexer": "ipython3",
   "version": "3.9.7"
  },
  "orig_nbformat": 4
 },
 "nbformat": 4,
 "nbformat_minor": 2
}
